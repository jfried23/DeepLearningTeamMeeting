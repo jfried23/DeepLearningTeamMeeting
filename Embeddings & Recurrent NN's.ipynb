{
 "cells": [
  {
   "cell_type": "code",
   "execution_count": 1,
   "metadata": {},
   "outputs": [
    {
     "name": "stderr",
     "output_type": "stream",
     "text": [
      "Using TensorFlow backend.\n"
     ]
    }
   ],
   "source": [
    "import keras\n",
    "import numpy as np\n",
    "\n",
    "import matplotlib.pyplot as plt\n",
    "%matplotlib inline"
   ]
  },
  {
   "cell_type": "code",
   "execution_count": 58,
   "metadata": {},
   "outputs": [],
   "source": [
    "number_of_words = 5000\n",
    "\n",
    "(x_train, y_train), (x_test, y_test) = imdb.load_data(num_words=number_of_words)"
   ]
  },
  {
   "cell_type": "code",
   "execution_count": 59,
   "metadata": {},
   "outputs": [],
   "source": [
    "seq_len = 200\n",
    "\n",
    "x_train = keras.preprocessing.sequence.pad_sequences(x_train, maxlen=seq_len)\n",
    "x_test = keras.preprocessing.sequence.pad_sequences(x_test, maxlen=seq_len)"
   ]
  },
  {
   "cell_type": "code",
   "execution_count": 60,
   "metadata": {},
   "outputs": [
    {
     "name": "stdout",
     "output_type": "stream",
     "text": [
      "_________________________________________________________________\n",
      "Layer (type)                 Output Shape              Param #   \n",
      "=================================================================\n",
      "input_12 (InputLayer)        (None, 200)               0         \n",
      "_________________________________________________________________\n",
      "embedding_11 (Embedding)     (None, 200, 32)           160000    \n",
      "_________________________________________________________________\n",
      "lstm_9 (LSTM)                (None, 16)                3136      \n",
      "_________________________________________________________________\n",
      "batch_normalization_8 (Batch (None, 16)                64        \n",
      "_________________________________________________________________\n",
      "dropout_8 (Dropout)          (None, 16)                0         \n",
      "_________________________________________________________________\n",
      "dense_8 (Dense)              (None, 1)                 17        \n",
      "=================================================================\n",
      "Total params: 163,217\n",
      "Trainable params: 163,185\n",
      "Non-trainable params: 32\n",
      "_________________________________________________________________\n"
     ]
    }
   ],
   "source": [
    "inp = keras.layers.Input((seq_len,))\n",
    "x   = keras.layers.Embedding(number_of_words, 32, mask_zero=True)(inp)\n",
    "x   = keras.layers.LSTM(16,dropout=0.5)(x)\n",
    "x   = keras.layers.BatchNormalization()(x)\n",
    "x   = keras.layers.Dropout(.5)(x)\n",
    "x   = keras.layers.Dense(1,activation=keras.activations.sigmoid)(x)\n",
    "\n",
    "model = keras.models.Model(inputs=[inp],outputs=[x])\n",
    "\n",
    "model.summary()"
   ]
  },
  {
   "cell_type": "code",
   "execution_count": 61,
   "metadata": {},
   "outputs": [
    {
     "name": "stdout",
     "output_type": "stream",
     "text": [
      "Train on 25000 samples, validate on 25000 samples\n",
      "Epoch 1/3\n",
      "25000/25000 [==============================] - 141s 6ms/step - loss: 0.4975 - acc: 0.7450 - val_loss: 0.3265 - val_acc: 0.8590\n",
      "Epoch 2/3\n",
      "25000/25000 [==============================] - 130s 5ms/step - loss: 0.3130 - acc: 0.8745 - val_loss: 0.5508 - val_acc: 0.7814\n",
      "Epoch 3/3\n",
      "25000/25000 [==============================] - 129s 5ms/step - loss: 0.2727 - acc: 0.8936 - val_loss: 0.4137 - val_acc: 0.8289\n"
     ]
    },
    {
     "data": {
      "text/plain": [
       "<keras.callbacks.History at 0x12f949f98>"
      ]
     },
     "execution_count": 61,
     "metadata": {},
     "output_type": "execute_result"
    }
   ],
   "source": [
    "model.compile(keras.optimizers.Adam(), \n",
    "              keras.losses.binary_crossentropy,\n",
    "              metrics=['accuracy'])\n",
    "\n",
    "model.fit( x=x_train, y=y_train,\n",
    "           batch_size=32, epochs=3, \n",
    "           validation_data=(x_test,y_test),\n",
    "           verbose=1\n",
    "          )"
   ]
  },
  {
   "cell_type": "code",
   "execution_count": 62,
   "metadata": {},
   "outputs": [
    {
     "name": "stdout",
     "output_type": "stream",
     "text": [
      "Train on 25000 samples, validate on 25000 samples\n",
      "Epoch 1/3\n",
      "25000/25000 [==============================] - 131s 5ms/step - loss: 0.2478 - acc: 0.9036 - val_loss: 0.3172 - val_acc: 0.8722\n",
      "Epoch 2/3\n",
      "25000/25000 [==============================] - 130s 5ms/step - loss: 0.2301 - acc: 0.9128 - val_loss: 0.3460 - val_acc: 0.8652\n",
      "Epoch 3/3\n",
      "25000/25000 [==============================] - 130s 5ms/step - loss: 0.2114 - acc: 0.9214 - val_loss: 0.3470 - val_acc: 0.8623\n"
     ]
    },
    {
     "data": {
      "text/plain": [
       "<keras.callbacks.History at 0x136f42c50>"
      ]
     },
     "execution_count": 62,
     "metadata": {},
     "output_type": "execute_result"
    }
   ],
   "source": [
    "model.fit( x=x_train, y=y_train,\n",
    "           batch_size=32, epochs=3, \n",
    "           validation_data=(x_test,y_test),\n",
    "           verbose=1\n",
    "          )"
   ]
  },
  {
   "cell_type": "code",
   "execution_count": 70,
   "metadata": {},
   "outputs": [
    {
     "data": {
      "text/plain": [
       "array([[ 0.03710604,  0.0447267 ,  0.01845541, ...,  0.02930913,\n",
       "         0.02345468,  0.01916173],\n",
       "       [-0.10124566,  0.03461369,  0.1728068 , ..., -0.13429023,\n",
       "         0.03981176, -0.23184338],\n",
       "       [ 0.00033416,  0.0192454 , -0.01414098, ..., -0.01579872,\n",
       "         0.00667133, -0.00081901],\n",
       "       ..., \n",
       "       [ 0.08447517,  0.07843002, -0.06227842, ...,  0.09398014,\n",
       "        -0.12601621, -0.058749  ],\n",
       "       [-0.11121077, -0.0938744 ,  0.06050764, ..., -0.04714765,\n",
       "         0.0382564 , -0.01634648],\n",
       "       [ 0.06594961,  0.0932195 ,  0.18000664, ...,  0.0139913 ,\n",
       "         0.16887462, -0.0180872 ]], dtype=float32)"
      ]
     },
     "execution_count": 70,
     "metadata": {},
     "output_type": "execute_result"
    }
   ],
   "source": [
    "model.layers[1].get_weights()[0]"
   ]
  },
  {
   "cell_type": "code",
   "execution_count": null,
   "metadata": {},
   "outputs": [],
   "source": []
  }
 ],
 "metadata": {
  "kernelspec": {
   "display_name": "Python 3",
   "language": "python",
   "name": "python3"
  },
  "language_info": {
   "codemirror_mode": {
    "name": "ipython",
    "version": 3
   },
   "file_extension": ".py",
   "mimetype": "text/x-python",
   "name": "python",
   "nbconvert_exporter": "python",
   "pygments_lexer": "ipython3",
   "version": "3.5.2"
  }
 },
 "nbformat": 4,
 "nbformat_minor": 2
}
