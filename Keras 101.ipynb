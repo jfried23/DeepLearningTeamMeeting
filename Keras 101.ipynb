{
 "cells": [
  {
   "cell_type": "code",
   "execution_count": 1,
   "metadata": {},
   "outputs": [
    {
     "name": "stderr",
     "output_type": "stream",
     "text": [
      "Using TensorFlow backend.\n"
     ]
    }
   ],
   "source": [
    "import keras\n",
    "import numpy as np\n",
    "\n",
    "import matplotlib.pyplot as plt\n",
    "%matplotlib inline"
   ]
  },
  {
   "cell_type": "markdown",
   "metadata": {},
   "source": [
    "<h4> MNIST Dataset</h4>\n",
    "\n",
    "<p>\n",
    "    Keras conveniently provides the classic \n",
    "    <a href='https://en.wikipedia.org/wiki/MNIST_database'>mnist dataset</a> \n",
    "    by simple function call. MNIST is a collection of gray-scale images of handwritten digits (0-9). Our task will be to build a classifier that can 'read' these pictures of handwritten inputs and guess the corresponding numerical representation. Before doing anything fancy lets load in the data and take a look.\n",
    "</p>\n"
   ]
  },
  {
   "cell_type": "code",
   "execution_count": 16,
   "metadata": {},
   "outputs": [],
   "source": [
    "(x_train, y_train), (x_test, y_test) = keras.datasets.mnist.load_data()"
   ]
  },
  {
   "cell_type": "code",
   "execution_count": 12,
   "metadata": {},
   "outputs": [
    {
     "data": {
      "text/plain": [
       "(60000, 28, 28, 1)"
      ]
     },
     "execution_count": 12,
     "metadata": {},
     "output_type": "execute_result"
    }
   ],
   "source": [
    "x_train.reshape((60000, 28, 28, 1))"
   ]
  },
  {
   "cell_type": "code",
   "execution_count": 4,
   "metadata": {},
   "outputs": [
    {
     "data": {
      "image/png": "[encoded data removed]",
      "text/plain": [
       "<matplotlib.figure.Figure at 0x119116ef0>"
      ]
     },
     "metadata": {},
     "output_type": "display_data"
    }
   ],
   "source": [
    "#Let's plot 16 random images and their answers\n",
    "\n",
    "#Select random images\n",
    "select_images = np.random.randint(0, y_train.shape[0], 16)\n",
    "\n",
    "#plot them\n",
    "\n",
    "fig, axes = plt.subplots(nrows=4, ncols=4)\n",
    "\n",
    "for i, ax in zip(select_images,axes.flatten()):\n",
    "    ax.imshow(x_train[i], cmap=plt.cm.binary)\n",
    "    ax.set_title(y_train[i])\n",
    "    ax.xaxis.set_visible(False) ; ax.yaxis.set_visible(False)\n",
    "plt.tight_layout()"
   ]
  },
  {
   "cell_type": "markdown",
   "metadata": {},
   "source": [
    "<h5>Simple Feed forward Neural Network</h5>"
   ]
  },
  {
   "cell_type": "markdown",
   "metadata": {},
   "source": [
    "<p>Layers in a feed forward Neural Network are really just matrix multiplications. Shapes matter in matrix multiplication, so we need to first define the shapes of our inputs and outputs to each layer. </p>\n",
    "<p>The MNIST dataset consists of 28x28 dimensional images, so first lets define an Input layer that takes a 28 x 28 dimensional arrays for each training example. See documentation in <b>keras.layers.Input</b> for details on how to construct this input layer.</p>\n"
   ]
  },
  {
   "cell_type": "code",
   "execution_count": 5,
   "metadata": {},
   "outputs": [],
   "source": [
    "#Create an input layer here\n",
    "input_tensor = keras.layers.Input( shape=x_train.shape[1:] )"
   ]
  },
  {
   "cell_type": "markdown",
   "metadata": {},
   "source": [
    "<p>Our input layer returns a computational tensor. You can think of this tensor as being a variable or placeholder representing (N x 28 x 28) dimensional input where N is the batch size. We will use this input to construct a computational graph, that through basic algebraic manipulation, will eventually transform our (N x 28 x 28) dimensional input into a (Nx10) output of predictions.</p>\n",
    "\n",
    "<p>As a first exercise, lets implement logistic regression using keras! We will be using the functional programming style to implement our model. In this style of programming we instantiate and call a Layer  <a href='https://en.wikipedia.org/wiki/Function_object'>functor object</a> (found in the path keras.layers)  like so:\n",
    "  \n",
    "    <center>new_tensor = keras.layers.LayerObject1( \\*\\*args )(<b><i>input_tensor</i></b> )</center> \n",
    "</p>\n",
    "\n",
    "<p>The output tensor of this transformation can undergo further transformations by passing it additional Layer functors like so:\n",
    "    <p>\n",
    "    <center>output = keras.layers.LayerObject2( \\*\\*args )( <b><i>new_tensor</i></b> )</center></p> \n",
    "</p>\n",
    "<p>\n",
    "For logistic regression we will use 3 types of layers:\n",
    "<ol>\n",
    "    <li><b>keras.layers.Flatten</b> -- to first transform our (Nx28x28) inputs into (N x 784) outputs.</li>\n",
    "    <li><b>keras.layers.BatchNormalization</b> -- to standardize all our inputs to have unit norm and standard deviation.\n",
    "    </li>\n",
    "    <li><b>keras.layers.Dense</b> -- to apply the matrix multiplication that will learn the best matrix of weights for converting an (N x 784) dimensional matrix into a (N x 10) dimensional array of outputs. (Considering the rules of linear algebra, how many weights dose this layer need to 'learn'?) </li>\n",
    "</ol>\n",
    "As a convenience the keras.layers.Dense object accepts the keyword argument <i>activation</i> that will apply the desired activation function to the layer outputs. Keras built in activation functions can be found under <b>keras.activations</b>. For logistic regression we use the <a href='https://en.wikipedia.org/wiki/Softmax_function'>softmax activation function</a>. Try implementing this feed forward NN using keras documentation for the three layer objects we listed above.\n",
    "</p>\n",
    "\n"
   ]
  },
  {
   "cell_type": "code",
   "execution_count": 6,
   "metadata": {},
   "outputs": [],
   "source": [
    "#Implement the layer feed forward NN outlined above, below:\n",
    "x     = keras.layers.Flatten()(input_tensor)\n",
    "x     = keras.layers.BatchNormalization(axis=-1)(x)\n",
    "x     = keras.layers.Dense(10,activation=keras.activations.softmax)(x)"
   ]
  },
  {
   "cell_type": "markdown",
   "metadata": {},
   "source": [
    "To turn this sequence of transformational steps on variable tensors into a data processing pipeline that will learn from and transform actual data, we need to create and compile a keras model object. The keras module object constructor takes a list of tensor objects as inputs and a list of tensor objects that will be the model output as outputs. We will instantiate our model and print a summary below:"
   ]
  },
  {
   "cell_type": "code",
   "execution_count": 7,
   "metadata": {},
   "outputs": [
    {
     "name": "stdout",
     "output_type": "stream",
     "text": [
      "_________________________________________________________________\n",
      "Layer (type)                 Output Shape              Param #   \n",
      "=================================================================\n",
      "input_1 (InputLayer)         (None, 28, 28)            0         \n",
      "_________________________________________________________________\n",
      "flatten_1 (Flatten)          (None, 784)               0         \n",
      "_________________________________________________________________\n",
      "batch_normalization_1 (Batch (None, 784)               3136      \n",
      "_________________________________________________________________\n",
      "dense_1 (Dense)              (None, 10)                7850      \n",
      "=================================================================\n",
      "Total params: 10,986\n",
      "Trainable params: 9,418\n",
      "Non-trainable params: 1,568\n",
      "_________________________________________________________________\n"
     ]
    }
   ],
   "source": [
    "model = keras.models.Model(inputs=[input_tensor], outputs=[x])\n",
    "model.summary()"
   ]
  },
  {
   "cell_type": "markdown",
   "metadata": {},
   "source": [
    "Now we will compile our keras model using the Model member function <i>compile</i>. As arguments, compilation takes: \n",
    "\n",
    "<ol>\n",
    "<li>A keras optimizer object that will preform the gradient descent. See keras.optimizers . (ADAM is good general choice.) </li>\n",
    "<li>A loss function (or dictionary of loss functions) the optimizer will seek to minimize. See keras.losses</li>\n",
    "<li>A metric or list of metrics (optional) for monitoring how the model preforms during training. See keras.metrics</li>\n",
    "</ol>"
   ]
  },
  {
   "cell_type": "code",
   "execution_count": 8,
   "metadata": {},
   "outputs": [],
   "source": [
    "model.compile(optimizer=keras.optimizers.Adam(),\n",
    "              loss = keras.losses.categorical_crossentropy,\n",
    "              metrics=[keras.metrics.categorical_accuracy]\n",
    "             )\n"
   ]
  },
  {
   "cell_type": "code",
   "execution_count": 9,
   "metadata": {},
   "outputs": [
    {
     "name": "stdout",
     "output_type": "stream",
     "text": [
      "Train on 60000 samples, validate on 10000 samples\n",
      "Epoch 1/10\n",
      "60000/60000 [==============================] - 1s 22us/step - loss: 1.0160 - categorical_accuracy: 0.6801 - val_loss: 0.6269 - val_categorical_accuracy: 0.8117\n",
      "Epoch 2/10\n",
      "60000/60000 [==============================] - 1s 13us/step - loss: 0.4406 - categorical_accuracy: 0.8754 - val_loss: 0.4055 - val_categorical_accuracy: 0.8864\n",
      "Epoch 3/10\n",
      "60000/60000 [==============================] - 1s 13us/step - loss: 0.3641 - categorical_accuracy: 0.8976 - val_loss: 0.3478 - val_categorical_accuracy: 0.9058\n",
      "Epoch 4/10\n",
      "60000/60000 [==============================] - 1s 13us/step - loss: 0.3278 - categorical_accuracy: 0.9073 - val_loss: 0.3276 - val_categorical_accuracy: 0.9136\n",
      "Epoch 5/10\n",
      "60000/60000 [==============================] - 1s 14us/step - loss: 0.3075 - categorical_accuracy: 0.9130 - val_loss: 0.3123 - val_categorical_accuracy: 0.9180\n",
      "Epoch 6/10\n",
      "60000/60000 [==============================] - 1s 14us/step - loss: 0.2943 - categorical_accuracy: 0.9163 - val_loss: 0.3041 - val_categorical_accuracy: 0.9194\n",
      "Epoch 7/10\n",
      "60000/60000 [==============================] - 1s 15us/step - loss: 0.2843 - categorical_accuracy: 0.9200 - val_loss: 0.2997 - val_categorical_accuracy: 0.9216\n",
      "Epoch 8/10\n",
      "60000/60000 [==============================] - 1s 14us/step - loss: 0.2771 - categorical_accuracy: 0.9211 - val_loss: 0.2967 - val_categorical_accuracy: 0.9212\n",
      "Epoch 9/10\n",
      "60000/60000 [==============================] - 1s 15us/step - loss: 0.2710 - categorical_accuracy: 0.9231 - val_loss: 0.2953 - val_categorical_accuracy: 0.9227\n",
      "Epoch 10/10\n",
      "60000/60000 [==============================] - 1s 16us/step - loss: 0.2669 - categorical_accuracy: 0.9245 - val_loss: 0.2931 - val_categorical_accuracy: 0.9229\n"
     ]
    }
   ],
   "source": [
    "history = model.fit(\n",
    "                x=x_train, \n",
    "                y=keras.utils.to_categorical(y_train), \n",
    "                batch_size=1000,\n",
    "                epochs=10,\n",
    "                validation_data=(x_test, keras.utils.to_categorical(y_test)),\n",
    "                verbose=1\n",
    "            )"
   ]
  },
  {
   "cell_type": "code",
   "execution_count": 16,
   "metadata": {},
   "outputs": [
    {
     "data": {
      "image/png": "[encoded data removed]",
      "text/plain": [
       "<matplotlib.figure.Figure at 0x1236a05f8>"
      ]
     },
     "metadata": {},
     "output_type": "display_data"
    }
   ],
   "source": [
    "plt.figure(figsize=(10,5))\n",
    "\n",
    "plt.subplot(121)\n",
    "plt.plot(history.epoch, history.history['loss'], label='Training Loss')\n",
    "plt.plot(history.epoch, history.history['val_loss'], label='Validation Loss')\n",
    "plt.legend()\n",
    "plt.ylabel('Log Loss')\n",
    "plt.xlabel('Epoch')\n",
    "plt.title('Training & Validation Loss')\n",
    "\n",
    "\n",
    "plt.subplot(122)\n",
    "plt.plot(history.epoch, history.history['categorical_accuracy'], label='Training Accuracy')\n",
    "plt.plot(history.epoch, history.history['val_categorical_accuracy'], label='Validation Accuracy')\n",
    "plt.legend()\n",
    "plt.ylabel('Accuracy')\n",
    "plt.xlabel('Epoch')\n",
    "plt.title('Training & Validation Accuracy')\n",
    "\n",
    "plt.show()"
   ]
  },
  {
   "cell_type": "code",
   "execution_count": 17,
   "metadata": {},
   "outputs": [],
   "source": [
    "#Use trained model to generate predictions for all test set images\n",
    "predictions = model.predict(x_test)"
   ]
  },
  {
   "cell_type": "markdown",
   "metadata": {},
   "source": [
    "<h2>Lets Take A Closer Look</h2>"
   ]
  },
  {
   "cell_type": "code",
   "execution_count": 18,
   "metadata": {},
   "outputs": [],
   "source": [
    "def visualize_preformance(x, guess, true, indx):\n",
    "    plt.subplot(121)\n",
    "    plt.bar(range(10),guess[indx])\n",
    "    plt.xticks([v for v in range(10)])\n",
    "    plt.ylabel('Probability')\n",
    "    plt.title( \"Prediction: %i\" %(np.argmax(guess[indx])) )\n",
    "\n",
    "    plt.subplot(122)\n",
    "    plt.title(\"True value: %i\"%(true[indx]))\n",
    "    plt.imshow(x[indx], cmap=plt.cm.binary)\n",
    "    plt.xticks([]); plt.yticks([])\n"
   ]
  },
  {
   "cell_type": "markdown",
   "metadata": {},
   "source": [
    "<h5>Look At One We Got Right</h5> "
   ]
  },
  {
   "cell_type": "code",
   "execution_count": 19,
   "metadata": {},
   "outputs": [
    {
     "data": {
      "image/png": "[encoded data removed]",
      "text/plain": [
       "<matplotlib.figure.Figure at 0x1235083c8>"
      ]
     },
     "metadata": {},
     "output_type": "display_data"
    }
   ],
   "source": [
    "correct = np.argwhere( np.argmax(predictions,axis=1) == y_test).flatten()\n",
    "indx = np.random.choice(correct)\n",
    "\n",
    "visualize_preformance(x_test, predictions,y_test, indx)"
   ]
  },
  {
   "cell_type": "markdown",
   "metadata": {},
   "source": [
    "<h5>Now Look At A Randomly Selected Mistake</h5>"
   ]
  },
  {
   "cell_type": "code",
   "execution_count": 20,
   "metadata": {},
   "outputs": [
    {
     "data": {
      "image/png": "[encoded data removed]",
      "text/plain": [
       "<matplotlib.figure.Figure at 0x123606940>"
      ]
     },
     "metadata": {},
     "output_type": "display_data"
    }
   ],
   "source": [
    "wrong = np.argwhere( np.argmax(predictions,axis=1) != y_test).flatten()\n",
    "indx = np.random.choice(wrong)\n",
    "\n",
    "visualize_preformance(x_test, predictions,y_test, indx)"
   ]
  },
  {
   "cell_type": "markdown",
   "metadata": {},
   "source": [
    "<h2>Convolutional Neural Network</h2>"
   ]
  },
  {
   "cell_type": "code",
   "execution_count": 19,
   "metadata": {},
   "outputs": [
    {
     "name": "stdout",
     "output_type": "stream",
     "text": [
      "Train on 60000 samples, validate on 10000 samples\n",
      "Epoch 1/15\n",
      "60000/60000 [==============================] - 13s 221us/step - loss: 0.9134 - categorical_accuracy: 0.7158 - val_loss: 0.7075 - val_categorical_accuracy: 0.7586\n",
      "Epoch 2/15\n",
      "60000/60000 [==============================] - 13s 217us/step - loss: 0.3604 - categorical_accuracy: 0.8905 - val_loss: 0.4400 - val_categorical_accuracy: 0.9107\n",
      "Epoch 3/15\n",
      "60000/60000 [==============================] - 13s 214us/step - loss: 0.2627 - categorical_accuracy: 0.9181 - val_loss: 0.3042 - val_categorical_accuracy: 0.9470\n",
      "Epoch 4/15\n",
      "60000/60000 [==============================] - 13s 224us/step - loss: 0.2109 - categorical_accuracy: 0.9352 - val_loss: 0.2294 - val_categorical_accuracy: 0.9606\n",
      "Epoch 5/15\n",
      "60000/60000 [==============================] - 13s 221us/step - loss: 0.1775 - categorical_accuracy: 0.9456 - val_loss: 0.1681 - val_categorical_accuracy: 0.9669\n",
      "Epoch 6/15\n",
      "60000/60000 [==============================] - 14s 229us/step - loss: 0.1582 - categorical_accuracy: 0.9518 - val_loss: 0.1366 - val_categorical_accuracy: 0.9694\n",
      "Epoch 7/15\n",
      "60000/60000 [==============================] - 14s 231us/step - loss: 0.1454 - categorical_accuracy: 0.9555 - val_loss: 0.1117 - val_categorical_accuracy: 0.9717\n",
      "Epoch 8/15\n",
      "60000/60000 [==============================] - 14s 234us/step - loss: 0.1356 - categorical_accuracy: 0.9587 - val_loss: 0.0882 - val_categorical_accuracy: 0.9761\n",
      "Epoch 9/15\n",
      "60000/60000 [==============================] - 13s 214us/step - loss: 0.1276 - categorical_accuracy: 0.9596 - val_loss: 0.0828 - val_categorical_accuracy: 0.9766\n",
      "Epoch 10/15\n",
      "60000/60000 [==============================] - 13s 218us/step - loss: 0.1206 - categorical_accuracy: 0.9627 - val_loss: 0.0748 - val_categorical_accuracy: 0.9801\n",
      "Epoch 11/15\n",
      "60000/60000 [==============================] - 13s 213us/step - loss: 0.1152 - categorical_accuracy: 0.9646 - val_loss: 0.0760 - val_categorical_accuracy: 0.9770\n",
      "Epoch 12/15\n",
      "60000/60000 [==============================] - 13s 212us/step - loss: 0.1105 - categorical_accuracy: 0.9652 - val_loss: 0.0710 - val_categorical_accuracy: 0.9794\n",
      "Epoch 13/15\n",
      "60000/60000 [==============================] - 12s 204us/step - loss: 0.1053 - categorical_accuracy: 0.9668 - val_loss: 0.0680 - val_categorical_accuracy: 0.9800\n",
      "Epoch 14/15\n",
      "60000/60000 [==============================] - 12s 206us/step - loss: 0.1010 - categorical_accuracy: 0.9682 - val_loss: 0.0623 - val_categorical_accuracy: 0.9807\n",
      "Epoch 15/15\n",
      "60000/60000 [==============================] - 12s 208us/step - loss: 0.0982 - categorical_accuracy: 0.9690 - val_loss: 0.0586 - val_categorical_accuracy: 0.9827\n"
     ]
    }
   ],
   "source": [
    "image = keras.layers.Input( shape=x_train.shape[1:] )\n",
    "\n",
    "x = keras.layers.Reshape((28,28,1))(image)\n",
    "\n",
    "x = keras.layers.BatchNormalization(axis=-1)(x)\n",
    "\n",
    "x = keras.layers.Conv2D(10,(3,3),padding='valid', activation=keras.activations.relu)(x)\n",
    "x = keras.layers.MaxPool2D(pool_size=(2,2),padding='valid')(x)\n",
    "x = keras.layers.BatchNormalization(axis=-1)(x)\n",
    "\n",
    "x = keras.layers.Flatten()(x)\n",
    "x = keras.layers.Dropout(0.5)(x)\n",
    "\n",
    "x = keras.layers.Dense(10, activation=keras.activations.softmax)(x)\n",
    "\n",
    "model = keras.models.Model(image,x)\n",
    "\n",
    "model.compile(optimizer=keras.optimizers.Adam(),\n",
    "              loss = keras.losses.categorical_crossentropy,\n",
    "              metrics=[keras.metrics.categorical_accuracy]\n",
    "             )\n",
    "\n",
    "history = model.fit(\n",
    "                x=x_train, \n",
    "                y=keras.utils.to_categorical(y_train), \n",
    "                batch_size=1000,\n",
    "                epochs=15,\n",
    "                validation_data=(x_test, keras.utils.to_categorical(y_test)),\n",
    "                verbose=1\n",
    "            )"
   ]
  },
  {
   "cell_type": "code",
   "execution_count": 14,
   "metadata": {},
   "outputs": [
    {
     "ename": "RuntimeError",
     "evalue": "You must compile a model before training/testing. Use `model.compile(optimizer, loss)`.",
     "output_type": "error",
     "traceback": [
      "\u001b[0;31m---------------------------------------------------------------------------\u001b[0m",
      "\u001b[0;31mRuntimeError\u001b[0m                              Traceback (most recent call last)",
      "\u001b[0;32m<ipython-input-14-0edf9d5e0279>\u001b[0m in \u001b[0;36m<module>\u001b[0;34m()\u001b[0m\n\u001b[1;32m     27\u001b[0m                 \u001b[0mepochs\u001b[0m\u001b[0;34m=\u001b[0m\u001b[0;36m15\u001b[0m\u001b[0;34m,\u001b[0m\u001b[0;34m\u001b[0m\u001b[0m\n\u001b[1;32m     28\u001b[0m                 \u001b[0mvalidation_data\u001b[0m\u001b[0;34m=\u001b[0m\u001b[0;34m(\u001b[0m\u001b[0mx_test\u001b[0m\u001b[0;34m,\u001b[0m \u001b[0mkeras\u001b[0m\u001b[0;34m.\u001b[0m\u001b[0mutils\u001b[0m\u001b[0;34m.\u001b[0m\u001b[0mto_categorical\u001b[0m\u001b[0;34m(\u001b[0m\u001b[0my_test\u001b[0m\u001b[0;34m)\u001b[0m\u001b[0;34m)\u001b[0m\u001b[0;34m,\u001b[0m\u001b[0;34m\u001b[0m\u001b[0m\n\u001b[0;32m---> 29\u001b[0;31m                 \u001b[0mverbose\u001b[0m\u001b[0;34m=\u001b[0m\u001b[0;36m1\u001b[0m\u001b[0;34m\u001b[0m\u001b[0m\n\u001b[0m\u001b[1;32m     30\u001b[0m             )\n",
      "\u001b[0;32m/usr/local/lib/python3.5/site-packages/keras/engine/training.py\u001b[0m in \u001b[0;36mfit\u001b[0;34m(self, x, y, batch_size, epochs, verbose, callbacks, validation_split, validation_data, shuffle, class_weight, sample_weight, initial_epoch, steps_per_epoch, validation_steps, **kwargs)\u001b[0m\n\u001b[1;32m   1572\u001b[0m             \u001b[0mclass_weight\u001b[0m\u001b[0;34m=\u001b[0m\u001b[0mclass_weight\u001b[0m\u001b[0;34m,\u001b[0m\u001b[0;34m\u001b[0m\u001b[0m\n\u001b[1;32m   1573\u001b[0m             \u001b[0mcheck_batch_axis\u001b[0m\u001b[0;34m=\u001b[0m\u001b[0;32mFalse\u001b[0m\u001b[0;34m,\u001b[0m\u001b[0;34m\u001b[0m\u001b[0m\n\u001b[0;32m-> 1574\u001b[0;31m             batch_size=batch_size)\n\u001b[0m\u001b[1;32m   1575\u001b[0m         \u001b[0;31m# Prepare validation data.\u001b[0m\u001b[0;34m\u001b[0m\u001b[0;34m\u001b[0m\u001b[0m\n\u001b[1;32m   1576\u001b[0m         \u001b[0mdo_validation\u001b[0m \u001b[0;34m=\u001b[0m \u001b[0;32mFalse\u001b[0m\u001b[0;34m\u001b[0m\u001b[0m\n",
      "\u001b[0;32m/usr/local/lib/python3.5/site-packages/keras/engine/training.py\u001b[0m in \u001b[0;36m_standardize_user_data\u001b[0;34m(self, x, y, sample_weight, class_weight, check_batch_axis, batch_size)\u001b[0m\n\u001b[1;32m   1392\u001b[0m                                check_batch_axis=True, batch_size=None):\n\u001b[1;32m   1393\u001b[0m         \u001b[0;32mif\u001b[0m \u001b[0;32mnot\u001b[0m \u001b[0mhasattr\u001b[0m\u001b[0;34m(\u001b[0m\u001b[0mself\u001b[0m\u001b[0;34m,\u001b[0m \u001b[0;34m'optimizer'\u001b[0m\u001b[0;34m)\u001b[0m\u001b[0;34m:\u001b[0m\u001b[0;34m\u001b[0m\u001b[0m\n\u001b[0;32m-> 1394\u001b[0;31m             raise RuntimeError('You must compile a model before '\n\u001b[0m\u001b[1;32m   1395\u001b[0m                                \u001b[0;34m'training/testing. '\u001b[0m\u001b[0;34m\u001b[0m\u001b[0m\n\u001b[1;32m   1396\u001b[0m                                'Use `model.compile(optimizer, loss)`.')\n",
      "\u001b[0;31mRuntimeError\u001b[0m: You must compile a model before training/testing. Use `model.compile(optimizer, loss)`."
     ]
    }
   ],
   "source": [
    "image = keras.layers.Input( shape=x_train.shape[1:] )\n",
    "\n",
    "x = keras.layers.Reshape((28,28,1))(image)\n",
    "\n",
    "x = keras.layers.BatchNormalization(axis=-1)(x)\n",
    "\n",
    "x = keras.layers.Conv2D(16,(5,5),padding='valid', activation=keras.activations.relu)(x)\n",
    "x = keras.layers.MaxPool2D(pool_size=(2,2),padding='valid')(x)\n",
    "x = keras.layers.BatchNormalization(axis=-1)(x)\n",
    "x = keras.layers.Dropout(0.5)(x)\n",
    "\n",
    "x = keras.layers.Flatten()(x)\n",
    "x = keras.layers.BatchNormalization(axis=-1)(x)\n",
    "x = keras.layers.Dropout(0.5)(x)\n",
    "\n",
    "x = keras.layers.Dense(1024, activation=keras.activations.relu)(x)\n",
    "x = keras.layers.BatchNormalization(axis=-1)(x)\n",
    "x = keras.layers.Dropout(0.5)(x)\n",
    "\n",
    "x = keras.layers.Dense(10, activation=keras.activations.softmax)(x)"
   ]
  },
  {
   "cell_type": "code",
   "execution_count": 22,
   "metadata": {},
   "outputs": [
    {
     "name": "stdout",
     "output_type": "stream",
     "text": [
      "_________________________________________________________________\n",
      "Layer (type)                 Output Shape              Param #   \n",
      "=================================================================\n",
      "input_3 (InputLayer)         (None, 28, 28)            0         \n",
      "_________________________________________________________________\n",
      "reshape_1 (Reshape)          (None, 28, 28, 1)         0         \n",
      "_________________________________________________________________\n",
      "batch_normalization_3 (Batch (None, 28, 28, 1)         4         \n",
      "_________________________________________________________________\n",
      "conv2d_1 (Conv2D)            (None, 24, 24, 16)        416       \n",
      "_________________________________________________________________\n",
      "max_pooling2d_1 (MaxPooling2 (None, 12, 12, 16)        0         \n",
      "_________________________________________________________________\n",
      "batch_normalization_4 (Batch (None, 12, 12, 16)        64        \n",
      "_________________________________________________________________\n",
      "dropout_1 (Dropout)          (None, 12, 12, 16)        0         \n",
      "_________________________________________________________________\n",
      "flatten_3 (Flatten)          (None, 2304)              0         \n",
      "_________________________________________________________________\n",
      "batch_normalization_5 (Batch (None, 2304)              9216      \n",
      "_________________________________________________________________\n",
      "dropout_2 (Dropout)          (None, 2304)              0         \n",
      "_________________________________________________________________\n",
      "dense_3 (Dense)              (None, 1024)              2360320   \n",
      "_________________________________________________________________\n",
      "batch_normalization_6 (Batch (None, 1024)              4096      \n",
      "_________________________________________________________________\n",
      "dropout_3 (Dropout)          (None, 1024)              0         \n",
      "_________________________________________________________________\n",
      "dense_4 (Dense)              (None, 10)                10250     \n",
      "=================================================================\n",
      "Total params: 2,384,366\n",
      "Trainable params: 2,377,676\n",
      "Non-trainable params: 6,690\n",
      "_________________________________________________________________\n"
     ]
    }
   ],
   "source": [
    "model=keras.models.Model(inputs=[image], outputs=[x])\n",
    "\n",
    "model.compile(optimizer=keras.optimizers.Adam(),\n",
    "              loss = keras.losses.categorical_crossentropy,\n",
    "              metrics=[keras.metrics.categorical_accuracy]\n",
    "             )\n",
    "\n",
    "model.summary()"
   ]
  },
  {
   "cell_type": "code",
   "execution_count": 23,
   "metadata": {},
   "outputs": [
    {
     "name": "stdout",
     "output_type": "stream",
     "text": [
      "Train on 60000 samples, validate on 10000 samples\n",
      "Epoch 1/15\n",
      "60000/60000 [==============================] - 32s 532us/step - loss: 0.5677 - categorical_accuracy: 0.8471 - val_loss: 0.4354 - val_categorical_accuracy: 0.8541\n",
      "Epoch 2/15\n",
      "60000/60000 [==============================] - 34s 570us/step - loss: 0.2418 - categorical_accuracy: 0.9285 - val_loss: 0.1995 - val_categorical_accuracy: 0.9585\n",
      "Epoch 3/15\n",
      "60000/60000 [==============================] - 36s 602us/step - loss: 0.1831 - categorical_accuracy: 0.9438 - val_loss: 0.1934 - val_categorical_accuracy: 0.9602\n",
      "Epoch 4/15\n",
      "60000/60000 [==============================] - 33s 555us/step - loss: 0.1522 - categorical_accuracy: 0.9514 - val_loss: 0.1757 - val_categorical_accuracy: 0.9626\n",
      "Epoch 5/15\n",
      "60000/60000 [==============================] - 34s 568us/step - loss: 0.1324 - categorical_accuracy: 0.9580 - val_loss: 0.1106 - val_categorical_accuracy: 0.9752\n",
      "Epoch 6/15\n",
      "60000/60000 [==============================] - 35s 590us/step - loss: 0.1187 - categorical_accuracy: 0.9629 - val_loss: 0.0731 - val_categorical_accuracy: 0.9804\n",
      "Epoch 7/15\n",
      "60000/60000 [==============================] - 35s 585us/step - loss: 0.1098 - categorical_accuracy: 0.9645 - val_loss: 0.0560 - val_categorical_accuracy: 0.9835\n",
      "Epoch 8/15\n",
      "60000/60000 [==============================] - 34s 563us/step - loss: 0.1017 - categorical_accuracy: 0.9676 - val_loss: 0.0462 - val_categorical_accuracy: 0.9857\n",
      "Epoch 9/15\n",
      "60000/60000 [==============================] - 33s 553us/step - loss: 0.0946 - categorical_accuracy: 0.9690 - val_loss: 0.0387 - val_categorical_accuracy: 0.9864\n",
      "Epoch 10/15\n",
      "60000/60000 [==============================] - 33s 550us/step - loss: 0.0886 - categorical_accuracy: 0.9709 - val_loss: 0.0364 - val_categorical_accuracy: 0.9880\n",
      "Epoch 11/15\n",
      "60000/60000 [==============================] - 32s 538us/step - loss: 0.0832 - categorical_accuracy: 0.9728 - val_loss: 0.0345 - val_categorical_accuracy: 0.9884\n",
      "Epoch 12/15\n",
      "60000/60000 [==============================] - 32s 537us/step - loss: 0.0770 - categorical_accuracy: 0.9742 - val_loss: 0.0321 - val_categorical_accuracy: 0.9890\n",
      "Epoch 13/15\n",
      "60000/60000 [==============================] - 34s 561us/step - loss: 0.0779 - categorical_accuracy: 0.9743 - val_loss: 0.0322 - val_categorical_accuracy: 0.9881\n",
      "Epoch 14/15\n",
      "60000/60000 [==============================] - 32s 532us/step - loss: 0.0727 - categorical_accuracy: 0.9764 - val_loss: 0.0303 - val_categorical_accuracy: 0.9888\n",
      "Epoch 15/15\n",
      "60000/60000 [==============================] - 32s 526us/step - loss: 0.0702 - categorical_accuracy: 0.9765 - val_loss: 0.0290 - val_categorical_accuracy: 0.9898\n"
     ]
    }
   ],
   "source": [
    "history = model.fit(\n",
    "                x=x_train, \n",
    "                y=keras.utils.to_categorical(y_train), \n",
    "                batch_size=1000,\n",
    "                epochs=15,\n",
    "                validation_data=(x_test, keras.utils.to_categorical(y_test)),\n",
    "                verbose=1\n",
    "            )"
   ]
  },
  {
   "cell_type": "code",
   "execution_count": 24,
   "metadata": {},
   "outputs": [
    {
     "data": {
      "image/png": "[encoded data removed]",
      "text/plain": [
       "<matplotlib.figure.Figure at 0x12495c940>"
      ]
     },
     "metadata": {},
     "output_type": "display_data"
    }
   ],
   "source": [
    "plt.figure(figsize=(10,5))\n",
    "\n",
    "plt.subplot(121)\n",
    "plt.plot(history.epoch, history.history['loss'], label='Training Loss')\n",
    "plt.plot(history.epoch, history.history['val_loss'], label='Validation Loss')\n",
    "plt.legend()\n",
    "plt.ylabel('Log Loss')\n",
    "plt.xlabel('Epoch')\n",
    "plt.title('Training & Validation Loss')\n",
    "\n",
    "\n",
    "plt.subplot(122)\n",
    "plt.plot(history.epoch, history.history['categorical_accuracy'], label='Training Accuracy')\n",
    "plt.plot(history.epoch, history.history['val_categorical_accuracy'], label='Validation Accuracy')\n",
    "plt.legend()\n",
    "plt.ylabel('Accuracy')\n",
    "plt.xlabel('Epoch')\n",
    "plt.title('Training & Validation Accuracy')\n",
    "\n",
    "plt.show()"
   ]
  },
  {
   "cell_type": "markdown",
   "metadata": {},
   "source": [
    "Not bad, certainly beats the piddling 92% we were getting with the dense layer! Lets try decreasing the learning rate."
   ]
  },
  {
   "cell_type": "code",
   "execution_count": 25,
   "metadata": {
    "scrolled": false
   },
   "outputs": [
    {
     "name": "stdout",
     "output_type": "stream",
     "text": [
      "Train on 60000 samples, validate on 10000 samples\n",
      "Epoch 1/10\n",
      "60000/60000 [==============================] - 30s 508us/step - loss: 0.0672 - categorical_accuracy: 0.9781 - val_loss: 0.0281 - val_categorical_accuracy: 0.9901\n",
      "Epoch 2/10\n",
      "60000/60000 [==============================] - 31s 517us/step - loss: 0.0679 - categorical_accuracy: 0.9767 - val_loss: 0.0303 - val_categorical_accuracy: 0.9901\n",
      "Epoch 3/10\n",
      "60000/60000 [==============================] - 31s 524us/step - loss: 0.0643 - categorical_accuracy: 0.9788 - val_loss: 0.0276 - val_categorical_accuracy: 0.9891\n",
      "Epoch 4/10\n",
      "60000/60000 [==============================] - 31s 524us/step - loss: 0.0627 - categorical_accuracy: 0.9796 - val_loss: 0.0276 - val_categorical_accuracy: 0.9910\n",
      "Epoch 5/10\n",
      "60000/60000 [==============================] - 32s 530us/step - loss: 0.0625 - categorical_accuracy: 0.9796 - val_loss: 0.0272 - val_categorical_accuracy: 0.9907\n",
      "Epoch 6/10\n",
      "60000/60000 [==============================] - 31s 525us/step - loss: 0.0571 - categorical_accuracy: 0.9806 - val_loss: 0.0274 - val_categorical_accuracy: 0.9901\n",
      "Epoch 7/10\n",
      "60000/60000 [==============================] - 32s 532us/step - loss: 0.0567 - categorical_accuracy: 0.9808 - val_loss: 0.0267 - val_categorical_accuracy: 0.9907\n",
      "Epoch 8/10\n",
      "60000/60000 [==============================] - 31s 517us/step - loss: 0.0546 - categorical_accuracy: 0.9817 - val_loss: 0.0251 - val_categorical_accuracy: 0.9920\n",
      "Epoch 9/10\n",
      "60000/60000 [==============================] - 31s 511us/step - loss: 0.0562 - categorical_accuracy: 0.9810 - val_loss: 0.0258 - val_categorical_accuracy: 0.9906\n",
      "Epoch 10/10\n",
      "60000/60000 [==============================] - 32s 538us/step - loss: 0.0547 - categorical_accuracy: 0.9824 - val_loss: 0.0276 - val_categorical_accuracy: 0.9908\n"
     ]
    }
   ],
   "source": [
    "model.optimizer.lr = .1*model.optimizer.lr\n",
    "\n",
    "history2 = model.fit(\n",
    "                x=x_train, \n",
    "                y=keras.utils.to_categorical(y_train), \n",
    "                batch_size=1000,\n",
    "                epochs=10,\n",
    "                validation_data=(x_test, keras.utils.to_categorical(y_test)),\n",
    "                verbose=1\n",
    "            )"
   ]
  },
  {
   "cell_type": "markdown",
   "metadata": {},
   "source": []
  },
  {
   "cell_type": "code",
   "execution_count": 26,
   "metadata": {},
   "outputs": [],
   "source": [
    "p = model.predict(x_test)"
   ]
  },
  {
   "cell_type": "code",
   "execution_count": 31,
   "metadata": {},
   "outputs": [
    {
     "data": {
      "text/plain": [
       "array([ 247,  259,  321,  340,  359,  445,  447,  582,  583,  659,  684,\n",
       "        924,  947, 1014, 1039, 1112, 1181, 1226, 1232, 1247, 1260, 1319,\n",
       "       1393, 1425, 1522, 1530, 1549, 1553, 1681, 1790, 1878, 1901, 2018,\n",
       "       2070, 2118, 2130, 2135, 2182, 2387, 2414, 2462, 2488, 2597, 2654,\n",
       "       2896, 2939, 2970, 3030, 3060, 3073, 3422, 3503, 3520, 3558, 3727,\n",
       "       3808, 3906, 3941, 3985, 4078, 4176, 4224, 4497, 4500, 4639, 4761,\n",
       "       4807, 4823, 5887, 5937, 5955, 5982, 6166, 6576, 6597, 6625, 6651,\n",
       "       6783, 6847, 7216, 8325, 8408, 8527, 9009, 9015, 9587, 9634, 9642,\n",
       "       9664, 9692, 9729, 9839])"
      ]
     },
     "execution_count": 31,
     "metadata": {},
     "output_type": "execute_result"
    }
   ],
   "source": [
    "np.argwhere( np.argmax(p,axis=1) != y_test ).flatten()"
   ]
  },
  {
   "cell_type": "code",
   "execution_count": 43,
   "metadata": {},
   "outputs": [
    {
     "data": {
      "image/png": "[encoded data removed]",
      "text/plain": [
       "<matplotlib.figure.Figure at 0x122eeb400>"
      ]
     },
     "metadata": {},
     "output_type": "display_data"
    }
   ],
   "source": [
    "i=321\n",
    "visualize_preformance(x_test, p,y_test, i)"
   ]
  },
  {
   "cell_type": "code",
   "execution_count": 35,
   "metadata": {},
   "outputs": [
    {
     "data": {
      "text/plain": [
       "array([  2.45686033e-06,   1.41565283e-06,   1.36837556e-07,\n",
       "         9.14032494e-09,   6.74186587e-01,   3.07064806e-06,\n",
       "         3.25796515e-01,   5.12240433e-07,   2.42570017e-08,\n",
       "         9.22366689e-06], dtype=float32)"
      ]
     },
     "execution_count": 35,
     "metadata": {},
     "output_type": "execute_result"
    }
   ],
   "source": [
    "p[i]"
   ]
  },
  {
   "cell_type": "code",
   "execution_count": null,
   "metadata": {},
   "outputs": [],
   "source": []
  },
  {
   "cell_type": "code",
   "execution_count": null,
   "metadata": {},
   "outputs": [],
   "source": []
  },
  {
   "cell_type": "code",
   "execution_count": null,
   "metadata": {},
   "outputs": [],
   "source": []
  },
  {
   "cell_type": "code",
   "execution_count": null,
   "metadata": {},
   "outputs": [],
   "source": []
  },
  {
   "cell_type": "code",
   "execution_count": null,
   "metadata": {},
   "outputs": [],
   "source": []
  },
  {
   "cell_type": "code",
   "execution_count": null,
   "metadata": {},
   "outputs": [],
   "source": []
  },
  {
   "cell_type": "code",
   "execution_count": null,
   "metadata": {},
   "outputs": [],
   "source": []
  },
  {
   "cell_type": "code",
   "execution_count": null,
   "metadata": {},
   "outputs": [],
   "source": []
  }
 ],
 "metadata": {
  "kernelspec": {
   "display_name": "Python 3",
   "language": "python",
   "name": "python3"
  },
  "language_info": {
   "codemirror_mode": {
    "name": "ipython",
    "version": 3
   },
   "file_extension": ".py",
   "mimetype": "text/x-python",
   "name": "python",
   "nbconvert_exporter": "python",
   "pygments_lexer": "ipython3",
   "version": "3.5.2"
  }
 },
 "nbformat": 4,
 "nbformat_minor": 2
}
