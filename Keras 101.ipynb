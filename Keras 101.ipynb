{
 "cells": [
  {
   "cell_type": "code",
   "execution_count": 2,
   "metadata": {},
   "outputs": [
    {
     "name": "stderr",
     "output_type": "stream",
     "text": [
      "Using TensorFlow backend.\n"
     ]
    }
   ],
   "source": [
    "import keras\n",
    "import numpy as np\n",
    "\n",
    "import matplotlib.pyplot as plt\n",
    "%matplotlib inline"
   ]
  },
  {
   "cell_type": "markdown",
   "metadata": {},
   "source": [
    "<h4> MNIST Dataset</h4>\n",
    "\n",
    "<p>\n",
    "    Keras conveniently provides the classic \n",
    "    <a href='https://en.wikipedia.org/wiki/MNIST_database'>mnist dataset</a> \n",
    "    by simple function call. MNIST is a collection of gray-scale images of handwritten digits (0-9). Our task will be to build a classifier that can 'read' these pictures of handwritten inputs and guess the corresponding numerical representation. Before doing anything fancy lets load in the data and take a look.\n",
    "</p>\n"
   ]
  },
  {
   "cell_type": "code",
   "execution_count": 3,
   "metadata": {},
   "outputs": [],
   "source": [
    "(x_train, y_train), (x_test, y_test) = keras.datasets.mnist.load_data()"
   ]
  },
  {
   "cell_type": "code",
   "execution_count": 4,
   "metadata": {},
   "outputs": [
    {
     "data": {
      "image/png": "[encoded data removed]",
      "text/plain": [
       "<matplotlib.figure.Figure at 0x111cc8c18>"
      ]
     },
     "metadata": {},
     "output_type": "display_data"
    }
   ],
   "source": [
    "#Let's plot 16 random images and their answers\n",
    "\n",
    "#Select random images\n",
    "select_images = np.random.randint(0, y_train.shape[0], 16)\n",
    "\n",
    "#plot them\n",
    "\n",
    "fig, axes = plt.subplots(nrows=4, ncols=4)\n",
    "\n",
    "for i, ax in zip(select_images,axes.flatten()):\n",
    "    ax.imshow(x_train[i], cmap=plt.cm.binary)\n",
    "    ax.set_title(y_train[i])\n",
    "    ax.xaxis.set_visible(False) ; ax.yaxis.set_visible(False)\n",
    "plt.tight_layout()"
   ]
  },
  {
   "cell_type": "markdown",
   "metadata": {},
   "source": [
    "<h5>Simple Feed forward Neural Network</h5>"
   ]
  },
  {
   "cell_type": "markdown",
   "metadata": {},
   "source": [
    "<p>Layers in a feed forward Neural Network are really just matrix multiplications. Shapes matter in matrix multiplication, so we need to first define the shapes of our inputs and outputs to each layer. </p>\n",
    "<p>The MNIST dataset consists of 28x28 dimensional images, so first lets define an Input layer that takes a 28 x 28 dimensional arrays for each training example. See documentation in <b>keras.layers.Input</b> for details on how to construct this input layer.</p>\n"
   ]
  },
  {
   "cell_type": "code",
   "execution_count": 5,
   "metadata": {},
   "outputs": [],
   "source": [
    "#Create an input layer here\n",
    "input_tensor = keras.layers.Input( shape=x_train.shape[1:] )"
   ]
  },
  {
   "cell_type": "markdown",
   "metadata": {},
   "source": [
    "<p>Our input layer returns a computational tensor. You can think of this tensor as being a variable or placeholder representing (N x 28 x 28) dimensional input where N is the batch size. We will use this input to construct a computational graph, that through basic algebraic manipulation, will eventually transform our (N x 28 x 28) dimensional input into a (Nx10) output of predictions.</p>\n",
    "\n",
    "<p>As a first exercise, lets implement logistic regression using keras! We will be using the functional programming style to implement our model. In this style of programming we instantiate and call a Layer  <a href='https://en.wikipedia.org/wiki/Function_object'>functor object</a> (found in the path keras.layers)  like so:\n",
    "  \n",
    "    <center>new_tensor = keras.layers.LayerObject1( \\*\\*args )(<b><i>input_tensor</i></b> )</center> \n",
    "</p>\n",
    "\n",
    "<p>The output tensor of this transformation can undergo further transformations by passing it additional Layer functors like so:\n",
    "    <p>\n",
    "    <center>output = keras.layers.LayerObject2( \\*\\*args )( <b><i>new_tensor</i></b> )</center></p> \n",
    "</p>\n",
    "<p>\n",
    "For logistic regression we will use 3 types of layers:\n",
    "<ol>\n",
    "    <li><b>keras.layers.Flatten</b> -- to first transform our (Nx28x28) inputs into (N x 784) outputs.</li>\n",
    "    <li><b>keras.layers.BatchNormalization</b> -- to standardize all our inputs to have unit norm and standard deviation.\n",
    "    </li>\n",
    "    <li><b>keras.layers.Dense</b> -- to apply the matrix multiplication that will learn the best matrix of weights for converting an (N x 784) dimensional matrix into a (N x 10) dimensional array of outputs. (Considering the rules of linear algebra, how many weights dose this layer need to 'learn'?) </li>\n",
    "</ol>\n",
    "As a convenience the keras.layers.Dense object accepts the keyword argument <i>activation</i> that will apply the desired activation function to the layer outputs. Keras built in activation functions can be found under <b>keras.activations</b>. For logistic regression we use the <a href='https://en.wikipedia.org/wiki/Softmax_function'>softmax activation function</a>. Try implementing this feed forward NN using keras documentation for the three layer objects we listed above.\n",
    "</p>\n",
    "\n"
   ]
  },
  {
   "cell_type": "code",
   "execution_count": 6,
   "metadata": {},
   "outputs": [],
   "source": [
    "#Implement the layer feed forward NN outlined above, below:\n",
    "x     = keras.layers.Flatten()(input_tensor)\n",
    "x     = keras.layers.BatchNormalization(axis=-1)(x)\n",
    "x     = keras.layers.Dense(10,activation=keras.activations.softmax)(x)"
   ]
  },
  {
   "cell_type": "markdown",
   "metadata": {},
   "source": [
    "To turn this sequence of transformational steps on variable tensors into a data processing pipeline that will learn from and transform actual data, we need to create and compile a keras model object. The keras module object constructor takes a list of tensor objects as inputs and a list of tensor objects that will be the model output as outputs. We will instantiate our model and print a summary below:"
   ]
  },
  {
   "cell_type": "code",
   "execution_count": 7,
   "metadata": {},
   "outputs": [
    {
     "name": "stdout",
     "output_type": "stream",
     "text": [
      "_________________________________________________________________\n",
      "Layer (type)                 Output Shape              Param #   \n",
      "=================================================================\n",
      "input_1 (InputLayer)         (None, 28, 28)            0         \n",
      "_________________________________________________________________\n",
      "flatten_1 (Flatten)          (None, 784)               0         \n",
      "_________________________________________________________________\n",
      "batch_normalization_1 (Batch (None, 784)               3136      \n",
      "_________________________________________________________________\n",
      "dense_1 (Dense)              (None, 10)                7850      \n",
      "=================================================================\n",
      "Total params: 10,986\n",
      "Trainable params: 9,418\n",
      "Non-trainable params: 1,568\n",
      "_________________________________________________________________\n"
     ]
    }
   ],
   "source": [
    "model = keras.models.Model(inputs=[input_tensor], outputs=[x])\n",
    "model.summary()"
   ]
  },
  {
   "cell_type": "markdown",
   "metadata": {},
   "source": [
    "Now we will compile our keras model using the Model member function <i>compile</i>. As arguments, compilation takes: \n",
    "\n",
    "<ol>\n",
    "<li>A keras optimizer object that will preform the gradient descent. See keras.optimizers . (ADAM is good general choice.) </li>\n",
    "<li>A loss function (or dictionary of loss functions) the optimizer will seek to minimize. See keras.losses</li>\n",
    "<li>A metric or list of metrics (optional) for monitoring how the model preforms during training. See keras.metrics</li>\n",
    "</ol>"
   ]
  },
  {
   "cell_type": "code",
   "execution_count": 8,
   "metadata": {},
   "outputs": [],
   "source": [
    "model.compile(optimizer=keras.optimizers.Adam(),\n",
    "              loss = keras.losses.categorical_crossentropy,\n",
    "              metrics=[keras.metrics.categorical_accuracy]\n",
    "             )\n"
   ]
  },
  {
   "cell_type": "code",
   "execution_count": 9,
   "metadata": {},
   "outputs": [],
   "source": [
    "history = model.fit(\n",
    "                x=x_train, \n",
    "                y=keras.utils.to_categorical(y_train), \n",
    "                batch_size=1000,\n",
    "                epochs=10,\n",
    "                validation_data=(x_test, keras.utils.to_categorical(y_test)),\n",
    "                verbose=0\n",
    "            )"
   ]
  },
  {
   "cell_type": "code",
   "execution_count": 10,
   "metadata": {},
   "outputs": [
    {
     "data": {
      "image/png": "[encoded data removed]",
      "text/plain": [
       "<matplotlib.figure.Figure at 0x11620b7f0>"
      ]
     },
     "metadata": {},
     "output_type": "display_data"
    }
   ],
   "source": [
    "plt.figure(figsize=(10,5))\n",
    "\n",
    "plt.subplot(121)\n",
    "plt.plot(history.epoch, history.history['loss'], label='Training Loss')\n",
    "plt.plot(history.epoch, history.history['val_loss'], label='Validation Loss')\n",
    "plt.legend()\n",
    "plt.ylabel('Log Loss')\n",
    "plt.xlabel('Epoch')\n",
    "plt.title('Training & Validation Loss')\n",
    "\n",
    "\n",
    "plt.subplot(122)\n",
    "plt.plot(history.epoch, history.history['categorical_accuracy'], label='Training Accuracy')\n",
    "plt.plot(history.epoch, history.history['val_categorical_accuracy'], label='Validation Accuracy')\n",
    "plt.legend()\n",
    "plt.ylabel('Accuracy')\n",
    "plt.xlabel('Epoch')\n",
    "plt.title('Training & Validation Accuracy')\n",
    "\n",
    "plt.show()"
   ]
  },
  {
   "cell_type": "code",
   "execution_count": 11,
   "metadata": {},
   "outputs": [],
   "source": [
    "#Use trained model to generate predictions for all test set images\n",
    "predictions = model.predict(x_test)"
   ]
  },
  {
   "cell_type": "markdown",
   "metadata": {},
   "source": [
    "<h2>Lets Take A Closer Look</h2>"
   ]
  },
  {
   "cell_type": "code",
   "execution_count": 12,
   "metadata": {},
   "outputs": [],
   "source": [
    "def visualize_preformance(x, guess, true, indx):\n",
    "    plt.subplot(121)\n",
    "    plt.bar(range(10),guess[indx])\n",
    "    plt.xticks([v for v in range(10)])\n",
    "    plt.ylabel('Probability')\n",
    "    plt.title( \"Prediction: %i\" %(np.argmax(guess[indx])) )\n",
    "\n",
    "    plt.subplot(122)\n",
    "    plt.title(\"True value: %i\"%(true[indx]))\n",
    "    plt.imshow(x[indx], cmap=plt.cm.binary)\n",
    "    plt.xticks([]); plt.yticks([])\n"
   ]
  },
  {
   "cell_type": "markdown",
   "metadata": {},
   "source": [
    "<h5>Look At One We Got Right</h5> "
   ]
  },
  {
   "cell_type": "code",
   "execution_count": 13,
   "metadata": {},
   "outputs": [
    {
     "data": {
      "image/png": "[encoded data removed]",
      "text/plain": [
       "<matplotlib.figure.Figure at 0x111cd4240>"
      ]
     },
     "metadata": {},
     "output_type": "display_data"
    }
   ],
   "source": [
    "correct = np.argwhere( np.argmax(predictions,axis=1) == y_test).flatten()\n",
    "indx = np.random.choice(correct)\n",
    "\n",
    "visualize_preformance(x_test, predictions,y_test, indx)"
   ]
  },
  {
   "cell_type": "markdown",
   "metadata": {},
   "source": [
    "<h5>Now Look At A Randomly Selected Mistake</h5>"
   ]
  },
  {
   "cell_type": "code",
   "execution_count": 14,
   "metadata": {},
   "outputs": [
    {
     "data": {
      "image/png": "[encoded data removed]",
      "text/plain": [
       "<matplotlib.figure.Figure at 0x10313fa20>"
      ]
     },
     "metadata": {},
     "output_type": "display_data"
    }
   ],
   "source": [
    "wrong = np.argwhere( np.argmax(predictions,axis=1) != y_test).flatten()\n",
    "indx = np.random.choice(wrong)\n",
    "\n",
    "visualize_preformance(x_test, predictions,y_test, indx)"
   ]
  },
  {
   "cell_type": "markdown",
   "metadata": {},
   "source": [
    "<h2>Convolutional Neural Network</h2>"
   ]
  },
  {
   "cell_type": "code",
   "execution_count": 15,
   "metadata": {},
   "outputs": [],
   "source": [
    "image = keras.layers.Input( shape=x_train.shape[1:] )\n",
    "\n",
    "x = keras.layers.Reshape((28,28,1))(image)\n",
    "\n",
    "x = keras.layers.BatchNormalization(axis=-1)(x)\n",
    "\n",
    "x = keras.layers.Conv2D(16,(5,5),padding='valid', activation=keras.activations.relu)(x)\n",
    "x = keras.layers.MaxPool2D(pool_size=(2,2),padding='valid')(x)\n",
    "x = keras.layers.BatchNormalization(axis=-1)(x)\n",
    "x = keras.layers.Dropout(0.5)(x)\n",
    "\n",
    "x = keras.layers.Flatten()(x)\n",
    "x = keras.layers.BatchNormalization(axis=-1)(x)\n",
    "x = keras.layers.Dropout(0.5)(x)\n",
    "\n",
    "x = keras.layers.Dense(1024, activation=keras.activations.relu)(x)\n",
    "x = keras.layers.BatchNormalization(axis=-1)(x)\n",
    "x = keras.layers.Dropout(0.5)(x)\n",
    "\n",
    "x = keras.layers.Dense(10, activation=keras.activations.softmax)(x)"
   ]
  },
  {
   "cell_type": "code",
   "execution_count": 16,
   "metadata": {},
   "outputs": [
    {
     "name": "stdout",
     "output_type": "stream",
     "text": [
      "_________________________________________________________________\n",
      "Layer (type)                 Output Shape              Param #   \n",
      "=================================================================\n",
      "input_2 (InputLayer)         (None, 28, 28)            0         \n",
      "_________________________________________________________________\n",
      "reshape_1 (Reshape)          (None, 28, 28, 1)         0         \n",
      "_________________________________________________________________\n",
      "batch_normalization_2 (Batch (None, 28, 28, 1)         4         \n",
      "_________________________________________________________________\n",
      "conv2d_1 (Conv2D)            (None, 24, 24, 16)        416       \n",
      "_________________________________________________________________\n",
      "max_pooling2d_1 (MaxPooling2 (None, 12, 12, 16)        0         \n",
      "_________________________________________________________________\n",
      "batch_normalization_3 (Batch (None, 12, 12, 16)        64        \n",
      "_________________________________________________________________\n",
      "dropout_1 (Dropout)          (None, 12, 12, 16)        0         \n",
      "_________________________________________________________________\n",
      "flatten_2 (Flatten)          (None, 2304)              0         \n",
      "_________________________________________________________________\n",
      "batch_normalization_4 (Batch (None, 2304)              9216      \n",
      "_________________________________________________________________\n",
      "dropout_2 (Dropout)          (None, 2304)              0         \n",
      "_________________________________________________________________\n",
      "dense_2 (Dense)              (None, 1024)              2360320   \n",
      "_________________________________________________________________\n",
      "batch_normalization_5 (Batch (None, 1024)              4096      \n",
      "_________________________________________________________________\n",
      "dropout_3 (Dropout)          (None, 1024)              0         \n",
      "_________________________________________________________________\n",
      "dense_3 (Dense)              (None, 10)                10250     \n",
      "=================================================================\n",
      "Total params: 2,384,366\n",
      "Trainable params: 2,377,676\n",
      "Non-trainable params: 6,690\n",
      "_________________________________________________________________\n"
     ]
    }
   ],
   "source": [
    "model=keras.models.Model(inputs=[image], outputs=[x])\n",
    "\n",
    "model.compile(optimizer=keras.optimizers.Adam(),\n",
    "              loss = keras.losses.categorical_crossentropy,\n",
    "              metrics=[keras.metrics.categorical_accuracy]\n",
    "             )\n",
    "\n",
    "model.summary()"
   ]
  },
  {
   "cell_type": "code",
   "execution_count": 17,
   "metadata": {},
   "outputs": [
    {
     "name": "stdout",
     "output_type": "stream",
     "text": [
      "Train on 60000 samples, validate on 10000 samples\n",
      "Epoch 1/15\n",
      "60000/60000 [==============================] - 36s 596us/step - loss: 0.5871 - categorical_accuracy: 0.8397 - val_loss: 0.3566 - val_categorical_accuracy: 0.8990\n",
      "Epoch 2/15\n",
      "60000/60000 [==============================] - 35s 587us/step - loss: 0.2579 - categorical_accuracy: 0.9233 - val_loss: 0.2991 - val_categorical_accuracy: 0.9353\n",
      "Epoch 3/15\n",
      "60000/60000 [==============================] - 34s 563us/step - loss: 0.1915 - categorical_accuracy: 0.9418 - val_loss: 0.2637 - val_categorical_accuracy: 0.9494\n",
      "Epoch 4/15\n",
      "60000/60000 [==============================] - 32s 536us/step - loss: 0.1570 - categorical_accuracy: 0.9511 - val_loss: 0.1596 - val_categorical_accuracy: 0.9705\n",
      "Epoch 5/15\n",
      "60000/60000 [==============================] - 32s 534us/step - loss: 0.1364 - categorical_accuracy: 0.9570 - val_loss: 0.1211 - val_categorical_accuracy: 0.9751\n",
      "Epoch 6/15\n",
      "60000/60000 [==============================] - 32s 530us/step - loss: 0.1205 - categorical_accuracy: 0.9619 - val_loss: 0.0779 - val_categorical_accuracy: 0.9803\n",
      "Epoch 7/15\n",
      "60000/60000 [==============================] - 32s 534us/step - loss: 0.1153 - categorical_accuracy: 0.9629 - val_loss: 0.0520 - val_categorical_accuracy: 0.9848\n",
      "Epoch 8/15\n",
      "60000/60000 [==============================] - 32s 529us/step - loss: 0.1046 - categorical_accuracy: 0.9666 - val_loss: 0.0484 - val_categorical_accuracy: 0.9852\n",
      "Epoch 9/15\n",
      "60000/60000 [==============================] - 32s 538us/step - loss: 0.0971 - categorical_accuracy: 0.9683 - val_loss: 0.0399 - val_categorical_accuracy: 0.9864\n",
      "Epoch 10/15\n",
      "60000/60000 [==============================] - 32s 536us/step - loss: 0.0917 - categorical_accuracy: 0.9708 - val_loss: 0.0356 - val_categorical_accuracy: 0.9869\n",
      "Epoch 11/15\n",
      "60000/60000 [==============================] - 32s 527us/step - loss: 0.0912 - categorical_accuracy: 0.9708 - val_loss: 0.0332 - val_categorical_accuracy: 0.9885\n",
      "Epoch 12/15\n",
      "60000/60000 [==============================] - 33s 542us/step - loss: 0.0839 - categorical_accuracy: 0.9728 - val_loss: 0.0302 - val_categorical_accuracy: 0.9893\n",
      "Epoch 13/15\n",
      "60000/60000 [==============================] - 33s 556us/step - loss: 0.0793 - categorical_accuracy: 0.9744 - val_loss: 0.0300 - val_categorical_accuracy: 0.9894\n",
      "Epoch 14/15\n",
      "60000/60000 [==============================] - 33s 544us/step - loss: 0.0759 - categorical_accuracy: 0.9750 - val_loss: 0.0301 - val_categorical_accuracy: 0.9889\n",
      "Epoch 15/15\n",
      "60000/60000 [==============================] - 32s 529us/step - loss: 0.0724 - categorical_accuracy: 0.9759 - val_loss: 0.0287 - val_categorical_accuracy: 0.9894\n"
     ]
    }
   ],
   "source": [
    "history = model.fit(\n",
    "                x=x_train, \n",
    "                y=keras.utils.to_categorical(y_train), \n",
    "                batch_size=1000,\n",
    "                epochs=15,\n",
    "                validation_data=(x_test, keras.utils.to_categorical(y_test)),\n",
    "                verbose=1\n",
    "            )"
   ]
  },
  {
   "cell_type": "code",
   "execution_count": 18,
   "metadata": {},
   "outputs": [
    {
     "data": {
      "image/png": "[encoded data removed]",
      "text/plain": [
       "<matplotlib.figure.Figure at 0x118406898>"
      ]
     },
     "metadata": {},
     "output_type": "display_data"
    }
   ],
   "source": [
    "plt.figure(figsize=(10,5))\n",
    "\n",
    "plt.subplot(121)\n",
    "plt.plot(history.epoch, history.history['loss'], label='Training Loss')\n",
    "plt.plot(history.epoch, history.history['val_loss'], label='Validation Loss')\n",
    "plt.legend()\n",
    "plt.ylabel('Log Loss')\n",
    "plt.xlabel('Epoch')\n",
    "plt.title('Training & Validation Loss')\n",
    "\n",
    "\n",
    "plt.subplot(122)\n",
    "plt.plot(history.epoch, history.history['categorical_accuracy'], label='Training Accuracy')\n",
    "plt.plot(history.epoch, history.history['val_categorical_accuracy'], label='Validation Accuracy')\n",
    "plt.legend()\n",
    "plt.ylabel('Accuracy')\n",
    "plt.xlabel('Epoch')\n",
    "plt.title('Training & Validation Accuracy')\n",
    "\n",
    "plt.show()"
   ]
  },
  {
   "cell_type": "markdown",
   "metadata": {},
   "source": [
    "Not bad, certainly beats the piddling 92% we were getting with the dense layer! Lets try decreasing the learning rate."
   ]
  },
  {
   "cell_type": "code",
   "execution_count": 19,
   "metadata": {
    "scrolled": false
   },
   "outputs": [
    {
     "name": "stdout",
     "output_type": "stream",
     "text": [
      "Train on 60000 samples, validate on 10000 samples\n",
      "Epoch 1/10\n",
      "60000/60000 [==============================] - 32s 533us/step - loss: 0.0711 - categorical_accuracy: 0.9765 - val_loss: 0.0277 - val_categorical_accuracy: 0.9899\n",
      "Epoch 2/10\n",
      "60000/60000 [==============================] - 32s 529us/step - loss: 0.0685 - categorical_accuracy: 0.9775 - val_loss: 0.0279 - val_categorical_accuracy: 0.9909\n",
      "Epoch 3/10\n",
      "60000/60000 [==============================] - 32s 533us/step - loss: 0.0661 - categorical_accuracy: 0.9784 - val_loss: 0.0278 - val_categorical_accuracy: 0.9906\n",
      "Epoch 4/10\n",
      "60000/60000 [==============================] - 32s 528us/step - loss: 0.0667 - categorical_accuracy: 0.9785 - val_loss: 0.0257 - val_categorical_accuracy: 0.9909\n",
      "Epoch 5/10\n",
      "60000/60000 [==============================] - 32s 532us/step - loss: 0.0634 - categorical_accuracy: 0.9794 - val_loss: 0.0255 - val_categorical_accuracy: 0.9909\n",
      "Epoch 6/10\n",
      "60000/60000 [==============================] - 32s 531us/step - loss: 0.0602 - categorical_accuracy: 0.9807 - val_loss: 0.0248 - val_categorical_accuracy: 0.9909\n",
      "Epoch 7/10\n",
      "60000/60000 [==============================] - 32s 533us/step - loss: 0.0607 - categorical_accuracy: 0.9793 - val_loss: 0.0246 - val_categorical_accuracy: 0.9907\n",
      "Epoch 8/10\n",
      "60000/60000 [==============================] - 35s 581us/step - loss: 0.0570 - categorical_accuracy: 0.9819 - val_loss: 0.0265 - val_categorical_accuracy: 0.9903\n",
      "Epoch 9/10\n",
      "60000/60000 [==============================] - 33s 550us/step - loss: 0.0564 - categorical_accuracy: 0.9814 - val_loss: 0.0242 - val_categorical_accuracy: 0.9912\n",
      "Epoch 10/10\n",
      "60000/60000 [==============================] - 32s 536us/step - loss: 0.0554 - categorical_accuracy: 0.9818 - val_loss: 0.0258 - val_categorical_accuracy: 0.9912\n"
     ]
    }
   ],
   "source": [
    "model.optimizer.lr = .1*model.optimizer.lr\n",
    "\n",
    "history2 = model.fit(\n",
    "                x=x_train, \n",
    "                y=keras.utils.to_categorical(y_train), \n",
    "                batch_size=1000,\n",
    "                epochs=10,\n",
    "                validation_data=(x_test, keras.utils.to_categorical(y_test)),\n",
    "                verbose=1\n",
    "            )"
   ]
  },
  {
   "cell_type": "markdown",
   "metadata": {},
   "source": []
  },
  {
   "cell_type": "code",
   "execution_count": null,
   "metadata": {},
   "outputs": [],
   "source": []
  },
  {
   "cell_type": "code",
   "execution_count": null,
   "metadata": {},
   "outputs": [],
   "source": []
  },
  {
   "cell_type": "code",
   "execution_count": null,
   "metadata": {},
   "outputs": [],
   "source": []
  },
  {
   "cell_type": "code",
   "execution_count": null,
   "metadata": {},
   "outputs": [],
   "source": []
  },
  {
   "cell_type": "code",
   "execution_count": null,
   "metadata": {},
   "outputs": [],
   "source": []
  },
  {
   "cell_type": "code",
   "execution_count": null,
   "metadata": {},
   "outputs": [],
   "source": []
  },
  {
   "cell_type": "code",
   "execution_count": null,
   "metadata": {},
   "outputs": [],
   "source": []
  },
  {
   "cell_type": "code",
   "execution_count": null,
   "metadata": {},
   "outputs": [],
   "source": []
  },
  {
   "cell_type": "code",
   "execution_count": null,
   "metadata": {},
   "outputs": [],
   "source": []
  },
  {
   "cell_type": "code",
   "execution_count": null,
   "metadata": {},
   "outputs": [],
   "source": []
  },
  {
   "cell_type": "code",
   "execution_count": null,
   "metadata": {},
   "outputs": [],
   "source": []
  },
  {
   "cell_type": "code",
   "execution_count": null,
   "metadata": {},
   "outputs": [],
   "source": []
  }
 ],
 "metadata": {
  "kernelspec": {
   "display_name": "Python 3",
   "language": "python",
   "name": "python3"
  },
  "language_info": {
   "codemirror_mode": {
    "name": "ipython",
    "version": 3
   },
   "file_extension": ".py",
   "mimetype": "text/x-python",
   "name": "python",
   "nbconvert_exporter": "python",
   "pygments_lexer": "ipython3",
   "version": "3.5.2"
  }
 },
 "nbformat": 4,
 "nbformat_minor": 2
}
