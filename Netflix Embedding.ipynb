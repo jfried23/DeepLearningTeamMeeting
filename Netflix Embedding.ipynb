{
 "cells": [
  {
   "cell_type": "code",
   "execution_count": 362,
   "metadata": {},
   "outputs": [],
   "source": [
    "import pandas as pd\n",
    "import numpy as np\n",
    "import itertools\n",
    "import glob\n",
    "import datetime\n",
    "import re\n",
    "import multiprocess\n",
    "from sklearn import model_selection, preprocessing\n",
    "\n",
    "import matplotlib.pyplot as plt\n",
    "\n",
    "import keras\n",
    "\n",
    "%matplotlib inline"
   ]
  },
  {
   "cell_type": "code",
   "execution_count": 65,
   "metadata": {},
   "outputs": [
    {
     "name": "stdout",
     "output_type": "stream",
     "text": [
      "2.35\n"
     ]
    }
   ],
   "source": [
    "movie_files = glob.glob('/Users/frjo6001/Downloads/download/training_set/*.txt')\n",
    "\n",
    "def netflix_data_parse( file_path ):\n",
    "    txt = open(file_path,'r').read()\n",
    "    \n",
    "    movie_id = int(re.findall('(\\d+)\\:',txt)[0])\n",
    "    \n",
    "    rating  = re.findall('(\\d+)\\,(\\d)\\,[\\d\\-]*\\n',txt)\n",
    "    rating = [(int(v[0]), int(v[1])) for v in rating]\n",
    "    \n",
    "    df = pd.DataFrame(data=rating, columns=['personID','rating'])\n",
    "    df['movieID'] = movie_id\n",
    "    \n",
    "    return df[['personID','movieID','rating']]\n",
    "\n",
    "pool = multiprocess.Pool()\n",
    "parse = pool.map(netflix_data_parse, movie_files)\n",
    "pool.close()\n",
    "\n",
    "df = pd.concat(parse)"
   ]
  },
  {
   "cell_type": "code",
   "execution_count": 8,
   "metadata": {},
   "outputs": [],
   "source": [
    "df_train, df_test = model_selection.train_test_split(df, test_size=0.3); del df"
   ]
  },
  {
   "cell_type": "code",
   "execution_count": 69,
   "metadata": {},
   "outputs": [],
   "source": [
    "person_test = set(df_test.personID.unique())\n",
    "movie_test  = set(df_test.movieID.unique())\n",
    "\n",
    "person_train = set(df_train.personID.unique())\n",
    "movie_train  = set(df_train.movieID.unique())\n",
    "\n",
    "p_intersect = person_test.intersection(person_train)\n",
    "m_intersect = movie_test.intersection(movie_train)"
   ]
  },
  {
   "cell_type": "code",
   "execution_count": 70,
   "metadata": {},
   "outputs": [],
   "source": [
    "df_test = df_test[ df_test.personID.isin(p_intersect) & (df_test.movieID.isin(m_intersect))]"
   ]
  },
  {
   "cell_type": "code",
   "execution_count": 85,
   "metadata": {},
   "outputs": [],
   "source": [
    "m_le = preprocessing.LabelEncoder().fit( list(p_intersect.union(person_train)) )\n",
    "p_le = preprocessing.LabelEncoder().fit( list(m_intersect.union(movie_train)) )\n",
    "\n",
    "df_test.movieID = p_le.transform(df_test.movieID)\n",
    "df_train.movieID = p_le.transform(df_train.movieID)\n",
    "df_test.personID = m_le.transform(df_test.personID)\n",
    "df_train.personID = m_le.transform(df_train.personID)"
   ]
  },
  {
   "cell_type": "code",
   "execution_count": 140,
   "metadata": {},
   "outputs": [
    {
     "name": "stdout",
     "output_type": "stream",
     "text": [
      "__________________________________________________________________________________________________\n",
      "Layer (type)                    Output Shape         Param #     Connected to                     \n",
      "==================================================================================================\n",
      "person (InputLayer)             (None, 1)            0                                            \n",
      "__________________________________________________________________________________________________\n",
      "movie (InputLayer)              (None, 1)            0                                            \n",
      "__________________________________________________________________________________________________\n",
      "embedding_55 (Embedding)        (None, 1, 12)        213240      person[0][0]                     \n",
      "__________________________________________________________________________________________________\n",
      "embedding_56 (Embedding)        (None, 1, 12)        5753964     movie[0][0]                      \n",
      "__________________________________________________________________________________________________\n",
      "dot_5 (Dot)                     (None, 1, 1)         0           embedding_55[0][0]               \n",
      "                                                                 embedding_56[0][0]               \n",
      "__________________________________________________________________________________________________\n",
      "flatten_15 (Flatten)            (None, 1)            0           dot_5[0][0]                      \n",
      "__________________________________________________________________________________________________\n",
      "batch_normalization_7 (BatchNor (None, 1)            4           flatten_15[0][0]                 \n",
      "==================================================================================================\n",
      "Total params: 5,967,208\n",
      "Trainable params: 5,967,206\n",
      "Non-trainable params: 2\n",
      "__________________________________________________________________________________________________\n"
     ]
    }
   ],
   "source": [
    "embeding_size = 12\n",
    "\n",
    "inp_movie = keras.layers.Input((1,),name='movie')\n",
    "inp_person = keras.layers.Input((1,),name='person')\n",
    "\n",
    "p_embed = keras.layers.Embedding(p_le.classes_.shape[0], embeding_size, input_length=1)(inp_person)\n",
    "m_embed = keras.layers.Embedding(m_le.classes_.shape[0], embeding_size, input_length=1)(inp_movie)\n",
    "\n",
    "\n",
    "x = keras.layers.dot([p_embed, m_embed],-1)\n",
    "x = keras.layers.Flatten()(x)\n",
    "x = keras.layers.BatchNormalization()(x)\n",
    "\n",
    "model = keras.models.Model(inputs=[inp_movie,inp_person], outputs=[x])\n",
    "\n",
    "model.compile(loss=keras.losses.MSE, \n",
    "              optimizer=keras.optimizers.Adam()\n",
    "             )\n",
    "\n",
    "model.summary()"
   ]
  },
  {
   "cell_type": "code",
   "execution_count": 142,
   "metadata": {},
   "outputs": [
    {
     "name": "stdout",
     "output_type": "stream",
     "text": [
      "Train on 70336354 samples, validate on 30143058 samples\n",
      "Epoch 1/5\n",
      "70336354/70336354 [==============================] - 88s 1us/step - loss: 8.5882 - val_loss: 6.8625\n",
      "Epoch 2/5\n",
      "70336354/70336354 [==============================] - 89s 1us/step - loss: 5.5449 - val_loss: 4.3690\n",
      "Epoch 3/5\n",
      "70336354/70336354 [==============================] - 90s 1us/step - loss: 3.4386 - val_loss: 2.6800\n",
      "Epoch 4/5\n",
      "70336354/70336354 [==============================] - 90s 1us/step - loss: 2.0652 - val_loss: 1.6288\n",
      "Epoch 5/5\n",
      "70336354/70336354 [==============================] - 90s 1us/step - loss: 1.2560 - val_loss: 1.0581\n"
     ]
    },
    {
     "data": {
      "text/plain": [
       "<keras.callbacks.History at 0x132c995f8>"
      ]
     },
     "execution_count": 142,
     "metadata": {},
     "output_type": "execute_result"
    }
   ],
   "source": [
    "model.fit(x={'person':np.atleast_2d(df_train.movieID.values).T, \n",
    "             'movie':np.atleast_2d(df_train.personID.values).T},\n",
    "          y=df_train.rating,\n",
    "          batch_size=100000,\n",
    "          epochs=5,\n",
    "          validation_data = ({'person':np.atleast_2d(df_test.movieID.values).T, \n",
    "             'movie':np.atleast_2d(df_test.personID.values).T},df_test.rating )\n",
    "         )"
   ]
  },
  {
   "cell_type": "markdown",
   "metadata": {},
   "source": [
    "<p> Our loss is still falling, lets train for a few more epochs.</p>"
   ]
  },
  {
   "cell_type": "code",
   "execution_count": 143,
   "metadata": {},
   "outputs": [
    {
     "name": "stdout",
     "output_type": "stream",
     "text": [
      "Train on 70336354 samples, validate on 30143058 samples\n",
      "Epoch 1/5\n",
      "70336354/70336354 [==============================] - 90s 1us/step - loss: 0.8496 - val_loss: 0.8082\n",
      "Epoch 2/5\n",
      "70336354/70336354 [==============================] - 90s 1us/step - loss: 0.6903 - val_loss: 0.7304\n",
      "Epoch 3/5\n",
      "70336354/70336354 [==============================] - 91s 1us/step - loss: 0.6466 - val_loss: 0.7167\n",
      "Epoch 4/5\n",
      "70336354/70336354 [==============================] - 91s 1us/step - loss: 0.6383 - val_loss: 0.7163\n",
      "Epoch 5/5\n",
      "70336354/70336354 [==============================] - 90s 1us/step - loss: 0.6359 - val_loss: 0.7166\n"
     ]
    },
    {
     "data": {
      "text/plain": [
       "<keras.callbacks.History at 0x132c6c940>"
      ]
     },
     "execution_count": 143,
     "metadata": {},
     "output_type": "execute_result"
    }
   ],
   "source": [
    "model.fit(x={'person':np.atleast_2d(df_train.movieID.values).T, \n",
    "             'movie':np.atleast_2d(df_train.personID.values).T},\n",
    "          y=df_train.rating,\n",
    "          batch_size=100000,\n",
    "          epochs=5,\n",
    "          validation_data = ({'person':np.atleast_2d(df_test.movieID.values).T, \n",
    "             'movie':np.atleast_2d(df_test.personID.values).T},df_test.rating )\n",
    "         )"
   ]
  },
  {
   "cell_type": "code",
   "execution_count": 160,
   "metadata": {},
   "outputs": [],
   "source": [
    "model.save('/Users/frjo6001/Desktop/embeding_model.hdf5')"
   ]
  },
  {
   "cell_type": "code",
   "execution_count": 335,
   "metadata": {},
   "outputs": [],
   "source": [
    "movie_embeddings = model.get_layer('embedding_55').get_weights()[0]\n",
    "movie_embeddings = movie_embeddings/np.atleast_2d(np.linalg.norm(movie_embeddings,axis=1)).T"
   ]
  },
  {
   "cell_type": "code",
   "execution_count": 314,
   "metadata": {},
   "outputs": [],
   "source": [
    "mv = open('/Users/frjo6001/Downloads/download/movie_titles.txt','r',encoding='latin1').readlines()\n",
    "data = [re.findall('(\\d+),(\\d+),([\\w\\s\\,\\:]+)',v.strip('\\n')) for v in mv]"
   ]
  },
  {
   "cell_type": "code",
   "execution_count": 315,
   "metadata": {},
   "outputs": [],
   "source": [
    "mv_df = pd.read_csv('/Users/frjo6001/Downloads/download/movie_titles.txt',encoding='latin1',\n",
    "                    error_bad_lines=False, warn_bad_lines=False, names=['movieID','year','title'])\n",
    "mv_df['movieID'] = movie_enc.transform(mv_df.movieID)"
   ]
  },
  {
   "cell_type": "markdown",
   "metadata": {},
   "source": [
    "### Movie simularity search \n",
    "<p>I love \"The Terminator\" movie franchise. Which movies are most simular?</p> "
   ]
  },
  {
   "cell_type": "code",
   "execution_count": 357,
   "metadata": {},
   "outputs": [
    {
     "data": {
      "text/html": [
       "<div>\n",
       "<style>\n",
       "    .dataframe thead tr:only-child th {\n",
       "        text-align: right;\n",
       "    }\n",
       "\n",
       "    .dataframe thead th {\n",
       "        text-align: left;\n",
       "    }\n",
       "\n",
       "    .dataframe tbody tr th {\n",
       "        vertical-align: top;\n",
       "    }\n",
       "</style>\n",
       "<table border=\"1\" class=\"dataframe\">\n",
       "  <thead>\n",
       "    <tr style=\"text-align: right;\">\n",
       "      <th></th>\n",
       "      <th>movieID</th>\n",
       "      <th>year</th>\n",
       "      <th>title</th>\n",
       "    </tr>\n",
       "  </thead>\n",
       "  <tbody>\n",
       "    <tr>\n",
       "      <th>6195</th>\n",
       "      <td>6195</td>\n",
       "      <td>1984.0</td>\n",
       "      <td>The Terminator</td>\n",
       "    </tr>\n",
       "  </tbody>\n",
       "</table>\n",
       "</div>"
      ],
      "text/plain": [
       "      movieID    year           title\n",
       "6195     6195  1984.0  The Terminator"
      ]
     },
     "execution_count": 357,
     "metadata": {},
     "output_type": "execute_result"
    }
   ],
   "source": [
    "mv_df[mv_df.title.str.contains('the terminator',case=False)]"
   ]
  },
  {
   "cell_type": "code",
   "execution_count": 347,
   "metadata": {},
   "outputs": [
    {
     "data": {
      "text/html": [
       "<div>\n",
       "<style>\n",
       "    .dataframe thead tr:only-child th {\n",
       "        text-align: right;\n",
       "    }\n",
       "\n",
       "    .dataframe thead th {\n",
       "        text-align: left;\n",
       "    }\n",
       "\n",
       "    .dataframe tbody tr th {\n",
       "        vertical-align: top;\n",
       "    }\n",
       "</style>\n",
       "<table border=\"1\" class=\"dataframe\">\n",
       "  <thead>\n",
       "    <tr style=\"text-align: right;\">\n",
       "      <th></th>\n",
       "      <th>movieID</th>\n",
       "      <th>year</th>\n",
       "      <th>title</th>\n",
       "    </tr>\n",
       "  </thead>\n",
       "  <tbody>\n",
       "    <tr>\n",
       "      <th>797</th>\n",
       "      <td>797</td>\n",
       "      <td>1975.0</td>\n",
       "      <td>Jaws</td>\n",
       "    </tr>\n",
       "    <tr>\n",
       "      <th>1624</th>\n",
       "      <td>1624</td>\n",
       "      <td>1986.0</td>\n",
       "      <td>Aliens: Collector's Edition</td>\n",
       "    </tr>\n",
       "    <tr>\n",
       "      <th>2429</th>\n",
       "      <td>2429</td>\n",
       "      <td>1979.0</td>\n",
       "      <td>Alien: Collector's Edition</td>\n",
       "    </tr>\n",
       "    <tr>\n",
       "      <th>3948</th>\n",
       "      <td>3948</td>\n",
       "      <td>1991.0</td>\n",
       "      <td>Terminator 2: Extreme Edition: Bonus Material</td>\n",
       "    </tr>\n",
       "    <tr>\n",
       "      <th>7700</th>\n",
       "      <td>7700</td>\n",
       "      <td>1981.0</td>\n",
       "      <td>The Road Warrior</td>\n",
       "    </tr>\n",
       "    <tr>\n",
       "      <th>8106</th>\n",
       "      <td>8106</td>\n",
       "      <td>1987.0</td>\n",
       "      <td>Predator: Collector's Edition</td>\n",
       "    </tr>\n",
       "    <tr>\n",
       "      <th>8914</th>\n",
       "      <td>8914</td>\n",
       "      <td>1991.0</td>\n",
       "      <td>Terminator 2: Extreme Edition</td>\n",
       "    </tr>\n",
       "    <tr>\n",
       "      <th>9959</th>\n",
       "      <td>9959</td>\n",
       "      <td>1988.0</td>\n",
       "      <td>Die Hard</td>\n",
       "    </tr>\n",
       "    <tr>\n",
       "      <th>14108</th>\n",
       "      <td>14108</td>\n",
       "      <td>1990.0</td>\n",
       "      <td>Total Recall</td>\n",
       "    </tr>\n",
       "    <tr>\n",
       "      <th>14311</th>\n",
       "      <td>14311</td>\n",
       "      <td>1993.0</td>\n",
       "      <td>Jurassic Park</td>\n",
       "    </tr>\n",
       "  </tbody>\n",
       "</table>\n",
       "</div>"
      ],
      "text/plain": [
       "       movieID    year                                          title\n",
       "797        797  1975.0                                           Jaws\n",
       "1624      1624  1986.0                    Aliens: Collector's Edition\n",
       "2429      2429  1979.0                     Alien: Collector's Edition\n",
       "3948      3948  1991.0  Terminator 2: Extreme Edition: Bonus Material\n",
       "7700      7700  1981.0                               The Road Warrior\n",
       "8106      8106  1987.0                  Predator: Collector's Edition\n",
       "8914      8914  1991.0                  Terminator 2: Extreme Edition\n",
       "9959      9959  1988.0                                       Die Hard\n",
       "14108    14108  1990.0                                   Total Recall\n",
       "14311    14311  1993.0                                  Jurassic Park"
      ]
     },
     "execution_count": 347,
     "metadata": {},
     "output_type": "execute_result"
    }
   ],
   "source": [
    "target = movie_embeddings[6195]\n",
    "mv_df[ mv_df.movieID.isin(np.argsort( movie_embeddings.dot(target) )[::-1][1:11]) ]\n"
   ]
  },
  {
   "cell_type": "markdown",
   "metadata": {},
   "source": [
    "<p>My niece loves \"Totoro\", which movies are most simular to that?</p>"
   ]
  },
  {
   "cell_type": "code",
   "execution_count": 351,
   "metadata": {},
   "outputs": [
    {
     "data": {
      "text/html": [
       "<div>\n",
       "<style>\n",
       "    .dataframe thead tr:only-child th {\n",
       "        text-align: right;\n",
       "    }\n",
       "\n",
       "    .dataframe thead th {\n",
       "        text-align: left;\n",
       "    }\n",
       "\n",
       "    .dataframe tbody tr th {\n",
       "        vertical-align: top;\n",
       "    }\n",
       "</style>\n",
       "<table border=\"1\" class=\"dataframe\">\n",
       "  <thead>\n",
       "    <tr style=\"text-align: right;\">\n",
       "      <th></th>\n",
       "      <th>movieID</th>\n",
       "      <th>year</th>\n",
       "      <th>title</th>\n",
       "    </tr>\n",
       "  </thead>\n",
       "  <tbody>\n",
       "    <tr>\n",
       "      <th>3592</th>\n",
       "      <td>3592</td>\n",
       "      <td>1988.0</td>\n",
       "      <td>My Neighbor Totoro</td>\n",
       "    </tr>\n",
       "  </tbody>\n",
       "</table>\n",
       "</div>"
      ],
      "text/plain": [
       "      movieID    year               title\n",
       "3592     3592  1988.0  My Neighbor Totoro"
      ]
     },
     "execution_count": 351,
     "metadata": {},
     "output_type": "execute_result"
    }
   ],
   "source": [
    "mv_df[mv_df.title.str.contains('totoro',case=False)]"
   ]
  },
  {
   "cell_type": "code",
   "execution_count": 356,
   "metadata": {},
   "outputs": [
    {
     "data": {
      "text/html": [
       "<div>\n",
       "<style>\n",
       "    .dataframe thead tr:only-child th {\n",
       "        text-align: right;\n",
       "    }\n",
       "\n",
       "    .dataframe thead th {\n",
       "        text-align: left;\n",
       "    }\n",
       "\n",
       "    .dataframe tbody tr th {\n",
       "        vertical-align: top;\n",
       "    }\n",
       "</style>\n",
       "<table border=\"1\" class=\"dataframe\">\n",
       "  <thead>\n",
       "    <tr style=\"text-align: right;\">\n",
       "      <th></th>\n",
       "      <th>movieID</th>\n",
       "      <th>year</th>\n",
       "      <th>title</th>\n",
       "    </tr>\n",
       "  </thead>\n",
       "  <tbody>\n",
       "    <tr>\n",
       "      <th>1881</th>\n",
       "      <td>1881</td>\n",
       "      <td>1954.0</td>\n",
       "      <td>I Love Lucy: Season 4</td>\n",
       "    </tr>\n",
       "    <tr>\n",
       "      <th>2017</th>\n",
       "      <td>2017</td>\n",
       "      <td>2005.0</td>\n",
       "      <td>Classic Cartoon Favorites: Starring Goofy</td>\n",
       "    </tr>\n",
       "    <tr>\n",
       "      <th>2798</th>\n",
       "      <td>2798</td>\n",
       "      <td>2005.0</td>\n",
       "      <td>Johnny Cash: Ridin' the Rails: The Great Ameri...</td>\n",
       "    </tr>\n",
       "    <tr>\n",
       "      <th>4307</th>\n",
       "      <td>4307</td>\n",
       "      <td>1999.0</td>\n",
       "      <td>Beauty and the Beast</td>\n",
       "    </tr>\n",
       "    <tr>\n",
       "      <th>4574</th>\n",
       "      <td>4574</td>\n",
       "      <td>1969.0</td>\n",
       "      <td>Scooby-Doo Where Are You?: Seasons 1 &amp; 2</td>\n",
       "    </tr>\n",
       "    <tr>\n",
       "      <th>7988</th>\n",
       "      <td>7988</td>\n",
       "      <td>1991.0</td>\n",
       "      <td>Beauty and the Beast: Special Edition</td>\n",
       "    </tr>\n",
       "    <tr>\n",
       "      <th>8420</th>\n",
       "      <td>8420</td>\n",
       "      <td>2002.0</td>\n",
       "      <td>Bear in the Big Blue House: Dance Party!</td>\n",
       "    </tr>\n",
       "    <tr>\n",
       "      <th>9701</th>\n",
       "      <td>9701</td>\n",
       "      <td>1999.0</td>\n",
       "      <td>Tarzan</td>\n",
       "    </tr>\n",
       "    <tr>\n",
       "      <th>10465</th>\n",
       "      <td>10465</td>\n",
       "      <td>1955.0</td>\n",
       "      <td>Lady and the Tramp</td>\n",
       "    </tr>\n",
       "    <tr>\n",
       "      <th>17425</th>\n",
       "      <td>17425</td>\n",
       "      <td>1953.0</td>\n",
       "      <td>Peter Pan</td>\n",
       "    </tr>\n",
       "  </tbody>\n",
       "</table>\n",
       "</div>"
      ],
      "text/plain": [
       "       movieID    year                                              title\n",
       "1881      1881  1954.0                              I Love Lucy: Season 4\n",
       "2017      2017  2005.0          Classic Cartoon Favorites: Starring Goofy\n",
       "2798      2798  2005.0  Johnny Cash: Ridin' the Rails: The Great Ameri...\n",
       "4307      4307  1999.0                               Beauty and the Beast\n",
       "4574      4574  1969.0           Scooby-Doo Where Are You?: Seasons 1 & 2\n",
       "7988      7988  1991.0              Beauty and the Beast: Special Edition\n",
       "8420      8420  2002.0           Bear in the Big Blue House: Dance Party!\n",
       "9701      9701  1999.0                                             Tarzan\n",
       "10465    10465  1955.0                                 Lady and the Tramp\n",
       "17425    17425  1953.0                                          Peter Pan"
      ]
     },
     "execution_count": 356,
     "metadata": {},
     "output_type": "execute_result"
    }
   ],
   "source": [
    "target = movie_embeddings[17713]\n",
    "mv_df[ mv_df.movieID.isin(np.argsort( movie_embeddings.dot(target) )[::-1][1:11]) ]\n"
   ]
  },
  {
   "cell_type": "code",
   "execution_count": 358,
   "metadata": {},
   "outputs": [],
   "source": [
    "from sklearn import manifold"
   ]
  },
  {
   "cell_type": "code",
   "execution_count": 359,
   "metadata": {},
   "outputs": [],
   "source": [
    "tsne = manifold.TSNE()\n",
    "x = tsne.fit_transform(movie_embeddings)"
   ]
  },
  {
   "cell_type": "code",
   "execution_count": 516,
   "metadata": {},
   "outputs": [
    {
     "data": {
      "image/png": "[encoded data removed]",
      "text/plain": [
       "<matplotlib.figure.Figure at 0x162c37d30>"
      ]
     },
     "metadata": {},
     "output_type": "display_data"
    }
   ],
   "source": [
    "action    = {\"Saving Private Ryan\":17156,'The Terminator':6195, \"Jaws\":797}\n",
    "romCom    = {\"Love Actually\":4471,\"When Harry Met Sally\":11849,\"Shakespeare in Love\":17763,\"High Fidelity\":311}\n",
    "acadmey   = {\"Titanic\":16878,\"Schindler's List\":12869,\"Gattaca\":17761}\n",
    "slapstick = {\"Ace Ventura: Pet Detective\":10927,\"Austin Powers\":13194,\"Airplane\":11397,\"Happy Gilmore\":8763}\n",
    "animated     = {\"Totoro\":3592, \"Spirited Away\":3445, \"Sesame Street: Elmopalooza!\":6670}\n",
    "doccumentry ={\"The Blue Planet\":8663,\"JFK: A Presidency Revealed\":5602,\"Ansel Adams: American Experience\":2295}\n",
    "\n",
    "for k,v in action.items(): plt.plot(x[v,0],x[v,1], 'ro'); plt.annotate(s=k, xy=x[v])\n",
    "for k,v in romCom.items(): plt.plot(x[v,0],x[v,1], 'bs'); plt.annotate(s=k, xy=x[v])\n",
    "for k,v in acadmey.items(): plt.plot(x[v,0],x[v,1], 'gd'); plt.annotate(s=k, xy=x[v])\n",
    "for k,v in slapstick.items(): plt.plot(x[v,0],x[v,1], 'ys'); plt.annotate(s=k, xy=x[v])\n",
    "for k,v in animated.items(): plt.plot(x[v,0],x[v,1], 'ko'); plt.annotate(s=k, xy=x[v])\n",
    "for k,v in doccumentry.items(): plt.plot(x[v,0],x[v,1], 'cd'); plt.annotate(s=k, xy=x[v])\n"
   ]
  },
  {
   "cell_type": "code",
   "execution_count": null,
   "metadata": {},
   "outputs": [],
   "source": [
    "for k,v in myMovies.items(): plt.plot(x[v,0],x[v,1], 'ro'); plt.annotate"
   ]
  },
  {
   "cell_type": "code",
   "execution_count": 519,
   "metadata": {},
   "outputs": [
    {
     "data": {
      "text/html": [
       "<div>\n",
       "<style>\n",
       "    .dataframe thead tr:only-child th {\n",
       "        text-align: right;\n",
       "    }\n",
       "\n",
       "    .dataframe thead th {\n",
       "        text-align: left;\n",
       "    }\n",
       "\n",
       "    .dataframe tbody tr th {\n",
       "        vertical-align: top;\n",
       "    }\n",
       "</style>\n",
       "<table border=\"1\" class=\"dataframe\">\n",
       "  <thead>\n",
       "    <tr style=\"text-align: right;\">\n",
       "      <th></th>\n",
       "      <th>movieID</th>\n",
       "      <th>year</th>\n",
       "      <th>title</th>\n",
       "    </tr>\n",
       "  </thead>\n",
       "  <tbody>\n",
       "    <tr>\n",
       "      <th>1256</th>\n",
       "      <td>1256</td>\n",
       "      <td>2003.0</td>\n",
       "      <td>Tupperware!: American Experience</td>\n",
       "    </tr>\n",
       "    <tr>\n",
       "      <th>1685</th>\n",
       "      <td>1685</td>\n",
       "      <td>1998.0</td>\n",
       "      <td>Riding the Rails: American Experience</td>\n",
       "    </tr>\n",
       "    <tr>\n",
       "      <th>2137</th>\n",
       "      <td>2137</td>\n",
       "      <td>2003.0</td>\n",
       "      <td>Bataan Rescue: American Experience</td>\n",
       "    </tr>\n",
       "    <tr>\n",
       "      <th>2295</th>\n",
       "      <td>2295</td>\n",
       "      <td>2002.0</td>\n",
       "      <td>Ansel Adams: American Experience</td>\n",
       "    </tr>\n",
       "    <tr>\n",
       "      <th>2570</th>\n",
       "      <td>2570</td>\n",
       "      <td>2002.0</td>\n",
       "      <td>Woodrow Wilson: American Experience</td>\n",
       "    </tr>\n",
       "    <tr>\n",
       "      <th>3622</th>\n",
       "      <td>3622</td>\n",
       "      <td>2002.0</td>\n",
       "      <td>Daughter from Danang: American Experience</td>\n",
       "    </tr>\n",
       "    <tr>\n",
       "      <th>4657</th>\n",
       "      <td>4657</td>\n",
       "      <td>2003.0</td>\n",
       "      <td>Seabiscuit: American Experience</td>\n",
       "    </tr>\n",
       "    <tr>\n",
       "      <th>5313</th>\n",
       "      <td>5313</td>\n",
       "      <td>1999.0</td>\n",
       "      <td>Return with Honor: American Experience</td>\n",
       "    </tr>\n",
       "    <tr>\n",
       "      <th>7040</th>\n",
       "      <td>7040</td>\n",
       "      <td>2003.0</td>\n",
       "      <td>The Murder of Emmett Till: American Experience</td>\n",
       "    </tr>\n",
       "    <tr>\n",
       "      <th>9464</th>\n",
       "      <td>9464</td>\n",
       "      <td>2004.0</td>\n",
       "      <td>The Fight: American Experience</td>\n",
       "    </tr>\n",
       "    <tr>\n",
       "      <th>10080</th>\n",
       "      <td>10080</td>\n",
       "      <td>2004.0</td>\n",
       "      <td>Reconstruction: The Second Civil War: American...</td>\n",
       "    </tr>\n",
       "    <tr>\n",
       "      <th>10812</th>\n",
       "      <td>10812</td>\n",
       "      <td>1992.0</td>\n",
       "      <td>The Kennedys: American Experience</td>\n",
       "    </tr>\n",
       "    <tr>\n",
       "      <th>11409</th>\n",
       "      <td>11409</td>\n",
       "      <td>2004.0</td>\n",
       "      <td>RFK: American Experience</td>\n",
       "    </tr>\n",
       "    <tr>\n",
       "      <th>11609</th>\n",
       "      <td>11609</td>\n",
       "      <td>2002.0</td>\n",
       "      <td>A Brilliant Madness: American Experience</td>\n",
       "    </tr>\n",
       "    <tr>\n",
       "      <th>12427</th>\n",
       "      <td>12427</td>\n",
       "      <td>2002.0</td>\n",
       "      <td>War Letters: American Experience</td>\n",
       "    </tr>\n",
       "    <tr>\n",
       "      <th>12695</th>\n",
       "      <td>12695</td>\n",
       "      <td>2004.0</td>\n",
       "      <td>Battle of the Bulge: American Experience</td>\n",
       "    </tr>\n",
       "    <tr>\n",
       "      <th>13334</th>\n",
       "      <td>13334</td>\n",
       "      <td>2001.0</td>\n",
       "      <td>Marcus Garvey: Look for Me in the Whirlwind: A...</td>\n",
       "    </tr>\n",
       "    <tr>\n",
       "      <th>14170</th>\n",
       "      <td>14170</td>\n",
       "      <td>2003.0</td>\n",
       "      <td>Chicago: City of the Century: American Experience</td>\n",
       "    </tr>\n",
       "    <tr>\n",
       "      <th>14297</th>\n",
       "      <td>14297</td>\n",
       "      <td>2004.0</td>\n",
       "      <td>Kinsey: American Experience</td>\n",
       "    </tr>\n",
       "    <tr>\n",
       "      <th>14347</th>\n",
       "      <td>14347</td>\n",
       "      <td>1996.0</td>\n",
       "      <td>The Wright Stuff: American Experience</td>\n",
       "    </tr>\n",
       "    <tr>\n",
       "      <th>14367</th>\n",
       "      <td>14367</td>\n",
       "      <td>2005.0</td>\n",
       "      <td>Building the Alaska Highway: American Experience</td>\n",
       "    </tr>\n",
       "    <tr>\n",
       "      <th>14614</th>\n",
       "      <td>14614</td>\n",
       "      <td>2001.0</td>\n",
       "      <td>Abraham and Mary Lincoln: A House Divided: Ame...</td>\n",
       "    </tr>\n",
       "    <tr>\n",
       "      <th>15587</th>\n",
       "      <td>15587</td>\n",
       "      <td>1998.0</td>\n",
       "      <td>Reagan: American Experience</td>\n",
       "    </tr>\n",
       "    <tr>\n",
       "      <th>16942</th>\n",
       "      <td>16942</td>\n",
       "      <td>2000.0</td>\n",
       "      <td>The Donner Party: American Experience</td>\n",
       "    </tr>\n",
       "    <tr>\n",
       "      <th>17756</th>\n",
       "      <td>17756</td>\n",
       "      <td>2002.0</td>\n",
       "      <td>Ulysses S. Grant: Warrior / President: America...</td>\n",
       "    </tr>\n",
       "    <tr>\n",
       "      <th>17766</th>\n",
       "      <td>17766</td>\n",
       "      <td>2004.0</td>\n",
       "      <td>Fidel Castro: American Experience</td>\n",
       "    </tr>\n",
       "  </tbody>\n",
       "</table>\n",
       "</div>"
      ],
      "text/plain": [
       "       movieID    year                                              title\n",
       "1256      1256  2003.0                   Tupperware!: American Experience\n",
       "1685      1685  1998.0              Riding the Rails: American Experience\n",
       "2137      2137  2003.0                 Bataan Rescue: American Experience\n",
       "2295      2295  2002.0                   Ansel Adams: American Experience\n",
       "2570      2570  2002.0                Woodrow Wilson: American Experience\n",
       "3622      3622  2002.0          Daughter from Danang: American Experience\n",
       "4657      4657  2003.0                    Seabiscuit: American Experience\n",
       "5313      5313  1999.0             Return with Honor: American Experience\n",
       "7040      7040  2003.0     The Murder of Emmett Till: American Experience\n",
       "9464      9464  2004.0                     The Fight: American Experience\n",
       "10080    10080  2004.0  Reconstruction: The Second Civil War: American...\n",
       "10812    10812  1992.0                  The Kennedys: American Experience\n",
       "11409    11409  2004.0                           RFK: American Experience\n",
       "11609    11609  2002.0           A Brilliant Madness: American Experience\n",
       "12427    12427  2002.0                   War Letters: American Experience\n",
       "12695    12695  2004.0           Battle of the Bulge: American Experience\n",
       "13334    13334  2001.0  Marcus Garvey: Look for Me in the Whirlwind: A...\n",
       "14170    14170  2003.0  Chicago: City of the Century: American Experience\n",
       "14297    14297  2004.0                        Kinsey: American Experience\n",
       "14347    14347  1996.0              The Wright Stuff: American Experience\n",
       "14367    14367  2005.0   Building the Alaska Highway: American Experience\n",
       "14614    14614  2001.0  Abraham and Mary Lincoln: A House Divided: Ame...\n",
       "15587    15587  1998.0                        Reagan: American Experience\n",
       "16942    16942  2000.0              The Donner Party: American Experience\n",
       "17756    17756  2002.0  Ulysses S. Grant: Warrior / President: America...\n",
       "17766    17766  2004.0                  Fidel Castro: American Experience"
      ]
     },
     "execution_count": 519,
     "metadata": {},
     "output_type": "execute_result"
    }
   ],
   "source": [
    "mv_df[ mv_df.title.str.contains('American Exp', case=False)]\n"
   ]
  },
  {
   "cell_type": "code",
   "execution_count": null,
   "metadata": {},
   "outputs": [],
   "source": []
  }
 ],
 "metadata": {
  "kernelspec": {
   "display_name": "Python 3",
   "language": "python",
   "name": "python3"
  },
  "language_info": {
   "codemirror_mode": {
    "name": "ipython",
    "version": 3
   },
   "file_extension": ".py",
   "mimetype": "text/x-python",
   "name": "python",
   "nbconvert_exporter": "python",
   "pygments_lexer": "ipython3",
   "version": "3.5.2"
  }
 },
 "nbformat": 4,
 "nbformat_minor": 2
}
